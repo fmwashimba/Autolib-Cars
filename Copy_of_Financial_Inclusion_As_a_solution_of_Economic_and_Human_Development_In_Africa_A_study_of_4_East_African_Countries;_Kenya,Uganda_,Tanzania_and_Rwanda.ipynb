{
  "nbformat": 4,
  "nbformat_minor": 0,
  "metadata": {
    "colab": {
      "provenance": [],
      "authorship_tag": "ABX9TyM82RC4fMdcEsl4fB9qomoP",
      "include_colab_link": true
    },
    "kernelspec": {
      "name": "python3",
      "display_name": "Python 3"
    },
    "language_info": {
      "name": "python"
    }
  },
  "cells": [
    {
      "cell_type": "markdown",
      "metadata": {
        "id": "view-in-github",
        "colab_type": "text"
      },
      "source": [
        "<a href=\"https://colab.research.google.com/github/fmwashimba/Autolib-Cars/blob/main/Copy_of_Financial_Inclusion_As_a_solution_of_Economic_and_Human_Development_In_Africa_A_study_of_4_East_African_Countries%3B_Kenya%2CUganda_%2CTanzania_and_Rwanda.ipynb\" target=\"_parent\"><img src=\"https://colab.research.google.com/assets/colab-badge.svg\" alt=\"Open In Colab\"/></a>"
      ]
    },
    {
      "cell_type": "code",
      "execution_count": null,
      "metadata": {
        "id": "0Bt-W0szMS76"
      },
      "outputs": [],
      "source": []
    },
    {
      "cell_type": "markdown",
      "source": [
        "**Data Anaylisis Question.**\n",
        "To figure out how we can predict which individuals are most likely to have or use a bank account. And by doing this will help provide an indication of the state of financial inclusion in Kenya, Rwanda, Tanzania, and Uganda, while providing insights into some of the key demographic factors that might drive individuals’ financial outcomes.\n",
        "\n",
        "**How I will do the Predictions **\n",
        "\n",
        "            A) Defining the question, the metric for success, the context, experimental design taken and the appropriateness of the available data to answer the given question\n",
        "            B) Finding and dealing with outliers, anomalies, and missing data within the dataset.\n",
        "            C) Performing univariate, bivariate and multivariate analysis recording my observations.\n",
        "            D)Implementing  the solution by performing the respective analysis i.e. factor analysis, principal component analysis, and discriminant analysis.\n",
        "            E) Challenging my solution by providing insights on how you can make improvements.\n",
        "A) i) **The Context**\n",
        "The information we are going to use is from a study done in portion of our population for both in rural and urban areas in Kenya done by finaccess and uganda,Tanzania and Rwanda done by Finscope.\n",
        "i) **Experimental Design**\n",
        "a) Studying and familirizing with the data \n",
        "b) Comparing the data with other sources of data ie from www.fdskenya.org, reading journals from international institute of Social and Economic Sciences \n",
        "c) Data Loading ,preparation and cleaning \n",
        "d)Exploratory Data Analysis \n",
        "e)Implementing the Solution\n",
        "F)Challanging my solution."
      ],
      "metadata": {
        "id": "P_8B68C5QbvE"
      }
    },
    {
      "cell_type": "markdown",
      "source": [
        "Data Loading\n",
        "\n",
        "Importing libraries"
      ],
      "metadata": {
        "id": "6_tSINZHcFJk"
      }
    },
    {
      "cell_type": "code",
      "source": [
        "import numpy as np\n",
        "import pandas as pd\n",
        "import seaborn as sns\n",
        "import matplotlib.pyplot as plt\n",
        "from sklearn.datasets import load_iris\n"
      ],
      "metadata": {
        "id": "O41wrk3JcNlj"
      },
      "execution_count": null,
      "outputs": []
    },
    {
      "cell_type": "code",
      "source": [
        "#We upload dataset from the source with the first and the last 5 rows of the data and with all columns\n",
        "\n",
        "df =pd.read_csv(\"https://bit.ly/FinancialDataset\")\n",
        "df.head(5)"
      ],
      "metadata": {
        "id": "3y7RvYXYdU9G",
        "colab": {
          "base_uri": "https://localhost:8080/",
          "height": 354
        },
        "outputId": "4b5c09f2-d67f-4e8c-e2a6-c9c12ca56e2d"
      },
      "execution_count": null,
      "outputs": [
        {
          "output_type": "execute_result",
          "data": {
            "text/plain": [
              "  country  year    uniqueid Has a Bank account Type of Location  \\\n",
              "0   Kenya  2018  uniqueid_1                Yes            Rural   \n",
              "1   Kenya  2018  uniqueid_2                 No            Rural   \n",
              "2   Kenya  2018  uniqueid_3                Yes            Urban   \n",
              "3   Kenya  2018  uniqueid_4                 No            Rural   \n",
              "4   Kenya  2018  uniqueid_5                 No            Urban   \n",
              "\n",
              "  Cell Phone Access  household_size  Respondent Age gender_of_respondent  \\\n",
              "0               Yes             3.0            24.0               Female   \n",
              "1                No             5.0            70.0               Female   \n",
              "2               Yes             5.0            26.0                 Male   \n",
              "3               Yes             5.0            34.0               Female   \n",
              "4                No             8.0            26.0                 Male   \n",
              "\n",
              "  The relathip with head           marital_status  \\\n",
              "0                 Spouse  Married/Living together   \n",
              "1      Head of Household                  Widowed   \n",
              "2         Other relative     Single/Never Married   \n",
              "3      Head of Household  Married/Living together   \n",
              "4                  Child     Single/Never Married   \n",
              "\n",
              "               Level of Educuation                Type of Job  \n",
              "0              Secondary education              Self employed  \n",
              "1              No formal education       Government Dependent  \n",
              "2  Vocational/Specialised training              Self employed  \n",
              "3                Primary education  Formally employed Private  \n",
              "4                Primary education        Informally employed  "
            ],
            "text/html": [
              "\n",
              "  <div id=\"df-3e4056db-d433-4ec0-a5b4-ca267254dd2e\">\n",
              "    <div class=\"colab-df-container\">\n",
              "      <div>\n",
              "<style scoped>\n",
              "    .dataframe tbody tr th:only-of-type {\n",
              "        vertical-align: middle;\n",
              "    }\n",
              "\n",
              "    .dataframe tbody tr th {\n",
              "        vertical-align: top;\n",
              "    }\n",
              "\n",
              "    .dataframe thead th {\n",
              "        text-align: right;\n",
              "    }\n",
              "</style>\n",
              "<table border=\"1\" class=\"dataframe\">\n",
              "  <thead>\n",
              "    <tr style=\"text-align: right;\">\n",
              "      <th></th>\n",
              "      <th>country</th>\n",
              "      <th>year</th>\n",
              "      <th>uniqueid</th>\n",
              "      <th>Has a Bank account</th>\n",
              "      <th>Type of Location</th>\n",
              "      <th>Cell Phone Access</th>\n",
              "      <th>household_size</th>\n",
              "      <th>Respondent Age</th>\n",
              "      <th>gender_of_respondent</th>\n",
              "      <th>The relathip with head</th>\n",
              "      <th>marital_status</th>\n",
              "      <th>Level of Educuation</th>\n",
              "      <th>Type of Job</th>\n",
              "    </tr>\n",
              "  </thead>\n",
              "  <tbody>\n",
              "    <tr>\n",
              "      <th>0</th>\n",
              "      <td>Kenya</td>\n",
              "      <td>2018</td>\n",
              "      <td>uniqueid_1</td>\n",
              "      <td>Yes</td>\n",
              "      <td>Rural</td>\n",
              "      <td>Yes</td>\n",
              "      <td>3.0</td>\n",
              "      <td>24.0</td>\n",
              "      <td>Female</td>\n",
              "      <td>Spouse</td>\n",
              "      <td>Married/Living together</td>\n",
              "      <td>Secondary education</td>\n",
              "      <td>Self employed</td>\n",
              "    </tr>\n",
              "    <tr>\n",
              "      <th>1</th>\n",
              "      <td>Kenya</td>\n",
              "      <td>2018</td>\n",
              "      <td>uniqueid_2</td>\n",
              "      <td>No</td>\n",
              "      <td>Rural</td>\n",
              "      <td>No</td>\n",
              "      <td>5.0</td>\n",
              "      <td>70.0</td>\n",
              "      <td>Female</td>\n",
              "      <td>Head of Household</td>\n",
              "      <td>Widowed</td>\n",
              "      <td>No formal education</td>\n",
              "      <td>Government Dependent</td>\n",
              "    </tr>\n",
              "    <tr>\n",
              "      <th>2</th>\n",
              "      <td>Kenya</td>\n",
              "      <td>2018</td>\n",
              "      <td>uniqueid_3</td>\n",
              "      <td>Yes</td>\n",
              "      <td>Urban</td>\n",
              "      <td>Yes</td>\n",
              "      <td>5.0</td>\n",
              "      <td>26.0</td>\n",
              "      <td>Male</td>\n",
              "      <td>Other relative</td>\n",
              "      <td>Single/Never Married</td>\n",
              "      <td>Vocational/Specialised training</td>\n",
              "      <td>Self employed</td>\n",
              "    </tr>\n",
              "    <tr>\n",
              "      <th>3</th>\n",
              "      <td>Kenya</td>\n",
              "      <td>2018</td>\n",
              "      <td>uniqueid_4</td>\n",
              "      <td>No</td>\n",
              "      <td>Rural</td>\n",
              "      <td>Yes</td>\n",
              "      <td>5.0</td>\n",
              "      <td>34.0</td>\n",
              "      <td>Female</td>\n",
              "      <td>Head of Household</td>\n",
              "      <td>Married/Living together</td>\n",
              "      <td>Primary education</td>\n",
              "      <td>Formally employed Private</td>\n",
              "    </tr>\n",
              "    <tr>\n",
              "      <th>4</th>\n",
              "      <td>Kenya</td>\n",
              "      <td>2018</td>\n",
              "      <td>uniqueid_5</td>\n",
              "      <td>No</td>\n",
              "      <td>Urban</td>\n",
              "      <td>No</td>\n",
              "      <td>8.0</td>\n",
              "      <td>26.0</td>\n",
              "      <td>Male</td>\n",
              "      <td>Child</td>\n",
              "      <td>Single/Never Married</td>\n",
              "      <td>Primary education</td>\n",
              "      <td>Informally employed</td>\n",
              "    </tr>\n",
              "  </tbody>\n",
              "</table>\n",
              "</div>\n",
              "      <button class=\"colab-df-convert\" onclick=\"convertToInteractive('df-3e4056db-d433-4ec0-a5b4-ca267254dd2e')\"\n",
              "              title=\"Convert this dataframe to an interactive table.\"\n",
              "              style=\"display:none;\">\n",
              "        \n",
              "  <svg xmlns=\"http://www.w3.org/2000/svg\" height=\"24px\"viewBox=\"0 0 24 24\"\n",
              "       width=\"24px\">\n",
              "    <path d=\"M0 0h24v24H0V0z\" fill=\"none\"/>\n",
              "    <path d=\"M18.56 5.44l.94 2.06.94-2.06 2.06-.94-2.06-.94-.94-2.06-.94 2.06-2.06.94zm-11 1L8.5 8.5l.94-2.06 2.06-.94-2.06-.94L8.5 2.5l-.94 2.06-2.06.94zm10 10l.94 2.06.94-2.06 2.06-.94-2.06-.94-.94-2.06-.94 2.06-2.06.94z\"/><path d=\"M17.41 7.96l-1.37-1.37c-.4-.4-.92-.59-1.43-.59-.52 0-1.04.2-1.43.59L10.3 9.45l-7.72 7.72c-.78.78-.78 2.05 0 2.83L4 21.41c.39.39.9.59 1.41.59.51 0 1.02-.2 1.41-.59l7.78-7.78 2.81-2.81c.8-.78.8-2.07 0-2.86zM5.41 20L4 18.59l7.72-7.72 1.47 1.35L5.41 20z\"/>\n",
              "  </svg>\n",
              "      </button>\n",
              "      \n",
              "  <style>\n",
              "    .colab-df-container {\n",
              "      display:flex;\n",
              "      flex-wrap:wrap;\n",
              "      gap: 12px;\n",
              "    }\n",
              "\n",
              "    .colab-df-convert {\n",
              "      background-color: #E8F0FE;\n",
              "      border: none;\n",
              "      border-radius: 50%;\n",
              "      cursor: pointer;\n",
              "      display: none;\n",
              "      fill: #1967D2;\n",
              "      height: 32px;\n",
              "      padding: 0 0 0 0;\n",
              "      width: 32px;\n",
              "    }\n",
              "\n",
              "    .colab-df-convert:hover {\n",
              "      background-color: #E2EBFA;\n",
              "      box-shadow: 0px 1px 2px rgba(60, 64, 67, 0.3), 0px 1px 3px 1px rgba(60, 64, 67, 0.15);\n",
              "      fill: #174EA6;\n",
              "    }\n",
              "\n",
              "    [theme=dark] .colab-df-convert {\n",
              "      background-color: #3B4455;\n",
              "      fill: #D2E3FC;\n",
              "    }\n",
              "\n",
              "    [theme=dark] .colab-df-convert:hover {\n",
              "      background-color: #434B5C;\n",
              "      box-shadow: 0px 1px 3px 1px rgba(0, 0, 0, 0.15);\n",
              "      filter: drop-shadow(0px 1px 2px rgba(0, 0, 0, 0.3));\n",
              "      fill: #FFFFFF;\n",
              "    }\n",
              "  </style>\n",
              "\n",
              "      <script>\n",
              "        const buttonEl =\n",
              "          document.querySelector('#df-3e4056db-d433-4ec0-a5b4-ca267254dd2e button.colab-df-convert');\n",
              "        buttonEl.style.display =\n",
              "          google.colab.kernel.accessAllowed ? 'block' : 'none';\n",
              "\n",
              "        async function convertToInteractive(key) {\n",
              "          const element = document.querySelector('#df-3e4056db-d433-4ec0-a5b4-ca267254dd2e');\n",
              "          const dataTable =\n",
              "            await google.colab.kernel.invokeFunction('convertToInteractive',\n",
              "                                                     [key], {});\n",
              "          if (!dataTable) return;\n",
              "\n",
              "          const docLinkHtml = 'Like what you see? Visit the ' +\n",
              "            '<a target=\"_blank\" href=https://colab.research.google.com/notebooks/data_table.ipynb>data table notebook</a>'\n",
              "            + ' to learn more about interactive tables.';\n",
              "          element.innerHTML = '';\n",
              "          dataTable['output_type'] = 'display_data';\n",
              "          await google.colab.output.renderOutput(dataTable, element);\n",
              "          const docLink = document.createElement('div');\n",
              "          docLink.innerHTML = docLinkHtml;\n",
              "          element.appendChild(docLink);\n",
              "        }\n",
              "      </script>\n",
              "    </div>\n",
              "  </div>\n",
              "  "
            ]
          },
          "metadata": {},
          "execution_count": 33
        }
      ]
    },
    {
      "cell_type": "code",
      "source": [
        "df.tail(5)\n"
      ],
      "metadata": {
        "colab": {
          "base_uri": "https://localhost:8080/",
          "height": 354
        },
        "id": "ZzpRmoUmmiQ5",
        "outputId": "15e68008-a114-4b6b-9c6b-3cb2eca1534a"
      },
      "execution_count": null,
      "outputs": [
        {
          "output_type": "execute_result",
          "data": {
            "text/plain": [
              "      country  year       uniqueid Has a Bank account Type of Location  \\\n",
              "23519  Uganda  2018  uniqueid_2113                 No            Rural   \n",
              "23520  Uganda  2018  uniqueid_2114                 No            Rural   \n",
              "23521  Uganda  2018  uniqueid_2115                 No            Rural   \n",
              "23522  Uganda  2018  uniqueid_2116                 No            Urban   \n",
              "23523  Uganda  2018  uniqueid_2117                 No            Rural   \n",
              "\n",
              "      Cell Phone Access  household_size  Respondent Age gender_of_respondent  \\\n",
              "23519               Yes             4.0            48.0               Female   \n",
              "23520               Yes             2.0            27.0               Female   \n",
              "23521               Yes             5.0            27.0               Female   \n",
              "23522               Yes             7.0            30.0               Female   \n",
              "23523               Yes            10.0            20.0                 Male   \n",
              "\n",
              "      The relathip with head        marital_status  Level of Educuation  \\\n",
              "23519      Head of Household    Divorced/Seperated  No formal education   \n",
              "23520      Head of Household  Single/Never Married  Secondary education   \n",
              "23521                 Parent               Widowed    Primary education   \n",
              "23522                 Parent    Divorced/Seperated  Secondary education   \n",
              "23523                  Child  Single/Never Married  Secondary education   \n",
              "\n",
              "         Type of Job  \n",
              "23519   Other Income  \n",
              "23520   Other Income  \n",
              "23521   Other Income  \n",
              "23522  Self employed  \n",
              "23523      No Income  "
            ],
            "text/html": [
              "\n",
              "  <div id=\"df-1605db77-2e19-417a-b7d8-c1d941dc6866\">\n",
              "    <div class=\"colab-df-container\">\n",
              "      <div>\n",
              "<style scoped>\n",
              "    .dataframe tbody tr th:only-of-type {\n",
              "        vertical-align: middle;\n",
              "    }\n",
              "\n",
              "    .dataframe tbody tr th {\n",
              "        vertical-align: top;\n",
              "    }\n",
              "\n",
              "    .dataframe thead th {\n",
              "        text-align: right;\n",
              "    }\n",
              "</style>\n",
              "<table border=\"1\" class=\"dataframe\">\n",
              "  <thead>\n",
              "    <tr style=\"text-align: right;\">\n",
              "      <th></th>\n",
              "      <th>country</th>\n",
              "      <th>year</th>\n",
              "      <th>uniqueid</th>\n",
              "      <th>Has a Bank account</th>\n",
              "      <th>Type of Location</th>\n",
              "      <th>Cell Phone Access</th>\n",
              "      <th>household_size</th>\n",
              "      <th>Respondent Age</th>\n",
              "      <th>gender_of_respondent</th>\n",
              "      <th>The relathip with head</th>\n",
              "      <th>marital_status</th>\n",
              "      <th>Level of Educuation</th>\n",
              "      <th>Type of Job</th>\n",
              "    </tr>\n",
              "  </thead>\n",
              "  <tbody>\n",
              "    <tr>\n",
              "      <th>23519</th>\n",
              "      <td>Uganda</td>\n",
              "      <td>2018</td>\n",
              "      <td>uniqueid_2113</td>\n",
              "      <td>No</td>\n",
              "      <td>Rural</td>\n",
              "      <td>Yes</td>\n",
              "      <td>4.0</td>\n",
              "      <td>48.0</td>\n",
              "      <td>Female</td>\n",
              "      <td>Head of Household</td>\n",
              "      <td>Divorced/Seperated</td>\n",
              "      <td>No formal education</td>\n",
              "      <td>Other Income</td>\n",
              "    </tr>\n",
              "    <tr>\n",
              "      <th>23520</th>\n",
              "      <td>Uganda</td>\n",
              "      <td>2018</td>\n",
              "      <td>uniqueid_2114</td>\n",
              "      <td>No</td>\n",
              "      <td>Rural</td>\n",
              "      <td>Yes</td>\n",
              "      <td>2.0</td>\n",
              "      <td>27.0</td>\n",
              "      <td>Female</td>\n",
              "      <td>Head of Household</td>\n",
              "      <td>Single/Never Married</td>\n",
              "      <td>Secondary education</td>\n",
              "      <td>Other Income</td>\n",
              "    </tr>\n",
              "    <tr>\n",
              "      <th>23521</th>\n",
              "      <td>Uganda</td>\n",
              "      <td>2018</td>\n",
              "      <td>uniqueid_2115</td>\n",
              "      <td>No</td>\n",
              "      <td>Rural</td>\n",
              "      <td>Yes</td>\n",
              "      <td>5.0</td>\n",
              "      <td>27.0</td>\n",
              "      <td>Female</td>\n",
              "      <td>Parent</td>\n",
              "      <td>Widowed</td>\n",
              "      <td>Primary education</td>\n",
              "      <td>Other Income</td>\n",
              "    </tr>\n",
              "    <tr>\n",
              "      <th>23522</th>\n",
              "      <td>Uganda</td>\n",
              "      <td>2018</td>\n",
              "      <td>uniqueid_2116</td>\n",
              "      <td>No</td>\n",
              "      <td>Urban</td>\n",
              "      <td>Yes</td>\n",
              "      <td>7.0</td>\n",
              "      <td>30.0</td>\n",
              "      <td>Female</td>\n",
              "      <td>Parent</td>\n",
              "      <td>Divorced/Seperated</td>\n",
              "      <td>Secondary education</td>\n",
              "      <td>Self employed</td>\n",
              "    </tr>\n",
              "    <tr>\n",
              "      <th>23523</th>\n",
              "      <td>Uganda</td>\n",
              "      <td>2018</td>\n",
              "      <td>uniqueid_2117</td>\n",
              "      <td>No</td>\n",
              "      <td>Rural</td>\n",
              "      <td>Yes</td>\n",
              "      <td>10.0</td>\n",
              "      <td>20.0</td>\n",
              "      <td>Male</td>\n",
              "      <td>Child</td>\n",
              "      <td>Single/Never Married</td>\n",
              "      <td>Secondary education</td>\n",
              "      <td>No Income</td>\n",
              "    </tr>\n",
              "  </tbody>\n",
              "</table>\n",
              "</div>\n",
              "      <button class=\"colab-df-convert\" onclick=\"convertToInteractive('df-1605db77-2e19-417a-b7d8-c1d941dc6866')\"\n",
              "              title=\"Convert this dataframe to an interactive table.\"\n",
              "              style=\"display:none;\">\n",
              "        \n",
              "  <svg xmlns=\"http://www.w3.org/2000/svg\" height=\"24px\"viewBox=\"0 0 24 24\"\n",
              "       width=\"24px\">\n",
              "    <path d=\"M0 0h24v24H0V0z\" fill=\"none\"/>\n",
              "    <path d=\"M18.56 5.44l.94 2.06.94-2.06 2.06-.94-2.06-.94-.94-2.06-.94 2.06-2.06.94zm-11 1L8.5 8.5l.94-2.06 2.06-.94-2.06-.94L8.5 2.5l-.94 2.06-2.06.94zm10 10l.94 2.06.94-2.06 2.06-.94-2.06-.94-.94-2.06-.94 2.06-2.06.94z\"/><path d=\"M17.41 7.96l-1.37-1.37c-.4-.4-.92-.59-1.43-.59-.52 0-1.04.2-1.43.59L10.3 9.45l-7.72 7.72c-.78.78-.78 2.05 0 2.83L4 21.41c.39.39.9.59 1.41.59.51 0 1.02-.2 1.41-.59l7.78-7.78 2.81-2.81c.8-.78.8-2.07 0-2.86zM5.41 20L4 18.59l7.72-7.72 1.47 1.35L5.41 20z\"/>\n",
              "  </svg>\n",
              "      </button>\n",
              "      \n",
              "  <style>\n",
              "    .colab-df-container {\n",
              "      display:flex;\n",
              "      flex-wrap:wrap;\n",
              "      gap: 12px;\n",
              "    }\n",
              "\n",
              "    .colab-df-convert {\n",
              "      background-color: #E8F0FE;\n",
              "      border: none;\n",
              "      border-radius: 50%;\n",
              "      cursor: pointer;\n",
              "      display: none;\n",
              "      fill: #1967D2;\n",
              "      height: 32px;\n",
              "      padding: 0 0 0 0;\n",
              "      width: 32px;\n",
              "    }\n",
              "\n",
              "    .colab-df-convert:hover {\n",
              "      background-color: #E2EBFA;\n",
              "      box-shadow: 0px 1px 2px rgba(60, 64, 67, 0.3), 0px 1px 3px 1px rgba(60, 64, 67, 0.15);\n",
              "      fill: #174EA6;\n",
              "    }\n",
              "\n",
              "    [theme=dark] .colab-df-convert {\n",
              "      background-color: #3B4455;\n",
              "      fill: #D2E3FC;\n",
              "    }\n",
              "\n",
              "    [theme=dark] .colab-df-convert:hover {\n",
              "      background-color: #434B5C;\n",
              "      box-shadow: 0px 1px 3px 1px rgba(0, 0, 0, 0.15);\n",
              "      filter: drop-shadow(0px 1px 2px rgba(0, 0, 0, 0.3));\n",
              "      fill: #FFFFFF;\n",
              "    }\n",
              "  </style>\n",
              "\n",
              "      <script>\n",
              "        const buttonEl =\n",
              "          document.querySelector('#df-1605db77-2e19-417a-b7d8-c1d941dc6866 button.colab-df-convert');\n",
              "        buttonEl.style.display =\n",
              "          google.colab.kernel.accessAllowed ? 'block' : 'none';\n",
              "\n",
              "        async function convertToInteractive(key) {\n",
              "          const element = document.querySelector('#df-1605db77-2e19-417a-b7d8-c1d941dc6866');\n",
              "          const dataTable =\n",
              "            await google.colab.kernel.invokeFunction('convertToInteractive',\n",
              "                                                     [key], {});\n",
              "          if (!dataTable) return;\n",
              "\n",
              "          const docLinkHtml = 'Like what you see? Visit the ' +\n",
              "            '<a target=\"_blank\" href=https://colab.research.google.com/notebooks/data_table.ipynb>data table notebook</a>'\n",
              "            + ' to learn more about interactive tables.';\n",
              "          element.innerHTML = '';\n",
              "          dataTable['output_type'] = 'display_data';\n",
              "          await google.colab.output.renderOutput(dataTable, element);\n",
              "          const docLink = document.createElement('div');\n",
              "          docLink.innerHTML = docLinkHtml;\n",
              "          element.appendChild(docLink);\n",
              "        }\n",
              "      </script>\n",
              "    </div>\n",
              "  </div>\n",
              "  "
            ]
          },
          "metadata": {},
          "execution_count": 34
        }
      ]
    },
    {
      "cell_type": "markdown",
      "source": [
        "Number of rows and columns"
      ],
      "metadata": {
        "id": "qBB2rV8Ali7L"
      }
    },
    {
      "cell_type": "code",
      "source": [
        "df.shape\n"
      ],
      "metadata": {
        "colab": {
          "base_uri": "https://localhost:8080/"
        },
        "id": "vzn2G5_XlnWS",
        "outputId": "3ae4fa10-9bb9-40e7-a866-91c914a18185"
      },
      "execution_count": null,
      "outputs": [
        {
          "output_type": "execute_result",
          "data": {
            "text/plain": [
              "(23524, 13)"
            ]
          },
          "metadata": {},
          "execution_count": 35
        }
      ]
    },
    {
      "cell_type": "markdown",
      "source": [
        "VARIABLES DEFINATIONS"
      ],
      "metadata": {
        "id": "h0Zaj3LnkRKZ"
      }
    },
    {
      "cell_type": "code",
      "source": [
        "VD=pd.read_csv(\"https://bit.ly/VariableDefinitions\")\n",
        "print(VD)"
      ],
      "metadata": {
        "colab": {
          "base_uri": "https://localhost:8080/"
        },
        "id": "Y41Rk64wkWGy",
        "outputId": "183ab162-e6db-4efe-e212-ab2a3758b806"
      },
      "execution_count": null,
      "outputs": [
        {
          "output_type": "stream",
          "name": "stdout",
          "text": [
            "      Variable Definitions                                         Unnamed: 1\n",
            "0                  country                         Country interviewee is in.\n",
            "1                     year                           Year survey was done in.\n",
            "2                 uniqueid             Unique identifier for each interviewee\n",
            "3            location_type                     Type of location: Rural, Urban\n",
            "4         cellphone_access  If interviewee has access to a cellphone: Yes, No\n",
            "5           household_size               Number of people living in one house\n",
            "6        age_of_respondent                         The age of the interviewee\n",
            "7     gender_of_respondent                Gender of interviewee: Male, Female\n",
            "8   relationship_with_head  The interviewee’s relationship with the head o...\n",
            "9           marital_status  The martial status of the interviewee: Married...\n",
            "10         education_level  Highest level of education: No formal educatio...\n",
            "11                job_type  Type of job interviewee has: Farming and Fishi...\n"
          ]
        }
      ]
    },
    {
      "cell_type": "markdown",
      "source": [
        "We determine the type of data in filled out in the columns"
      ],
      "metadata": {
        "id": "sp2rAz0znToE"
      }
    },
    {
      "cell_type": "code",
      "source": [
        "df.dtypes"
      ],
      "metadata": {
        "colab": {
          "base_uri": "https://localhost:8080/"
        },
        "id": "kC3yBzwynlK9",
        "outputId": "59649a79-0db4-40b7-b2d7-25bc0ea5cd29"
      },
      "execution_count": null,
      "outputs": [
        {
          "output_type": "execute_result",
          "data": {
            "text/plain": [
              "country                    object\n",
              "year                        int64\n",
              "uniqueid                   object\n",
              "Has a Bank account         object\n",
              "Type of Location           object\n",
              "Cell Phone Access          object\n",
              "household_size            float64\n",
              "Respondent Age            float64\n",
              "gender_of_respondent       object\n",
              "The relathip with head     object\n",
              "marital_status             object\n",
              "Level of Educuation        object\n",
              "Type of Job                object\n",
              "dtype: object"
            ]
          },
          "metadata": {},
          "execution_count": 37
        }
      ]
    },
    {
      "cell_type": "markdown",
      "source": [
        "From the observation above year, household size and respondent Age the data type is numerical and the rest of the columns are categorical "
      ],
      "metadata": {
        "id": "_sEOm_2doQWa"
      }
    },
    {
      "cell_type": "markdown",
      "source": [
        "**DATA CLEANING** "
      ],
      "metadata": {
        "id": "ny4PrcUCqI9N"
      }
    },
    {
      "cell_type": "markdown",
      "source": [
        "1) **Removing irrelevant data**"
      ],
      "metadata": {
        "id": "uwLYUl89t_b3"
      }
    },
    {
      "cell_type": "markdown",
      "source": [
        "From observation of the data all information in the columns are valid for this study so we have no data to remove ."
      ],
      "metadata": {
        "id": "5wPN8IO-uHQ_"
      }
    },
    {
      "cell_type": "markdown",
      "source": [
        "2) **Removing duplicated data from our dataset first by checking if there are any duplicates**"
      ],
      "metadata": {
        "id": "4EuD8c00rTXi"
      }
    },
    {
      "cell_type": "code",
      "source": [
        "df.duplicated().sum()"
      ],
      "metadata": {
        "colab": {
          "base_uri": "https://localhost:8080/"
        },
        "id": "Mjwkh4emrgDx",
        "outputId": "033bdc9b-12f2-4277-fa5f-0f8edeb6aee4"
      },
      "execution_count": null,
      "outputs": [
        {
          "output_type": "execute_result",
          "data": {
            "text/plain": [
              "0"
            ]
          },
          "metadata": {},
          "execution_count": 38
        }
      ]
    },
    {
      "cell_type": "markdown",
      "source": [
        "There are zero duplicates of the data meaning there will be no irrelevant observation."
      ],
      "metadata": {
        "id": "6BTQ4tLzsdpl"
      }
    },
    {
      "cell_type": "markdown",
      "source": [
        "3)**We fix Structural errors ie long namings,incorrect word use or misspellings and columns which are not going to be used in the analysis.**"
      ],
      "metadata": {
        "id": "SUqBQau0uxyb"
      }
    },
    {
      "cell_type": "code",
      "source": [
        "df.rename(columns ={'Level of Educuation':'education','Respondent Age':'age','gender_of_respondent':'gender','Type of Location':'location'},inplace =True)\n",
        "df.columns  "
      ],
      "metadata": {
        "colab": {
          "base_uri": "https://localhost:8080/"
        },
        "id": "ylqONfhQvVwp",
        "outputId": "cb7e1517-b496-4ec4-f3e2-93ff05b0351e"
      },
      "execution_count": null,
      "outputs": [
        {
          "output_type": "execute_result",
          "data": {
            "text/plain": [
              "Index(['country', 'year', 'uniqueid', 'Has a Bank account', 'location',\n",
              "       'Cell Phone Access', 'household_size', 'age', 'gender',\n",
              "       'The relathip with head', 'marital_status', 'education', 'Type of Job'],\n",
              "      dtype='object')"
            ]
          },
          "metadata": {},
          "execution_count": 39
        }
      ]
    },
    {
      "cell_type": "code",
      "source": [
        "df= df.drop(['uniqueid','year','marital_status','household_size'],axis = 1)\n",
        "print(df.columns)"
      ],
      "metadata": {
        "colab": {
          "base_uri": "https://localhost:8080/"
        },
        "id": "HGrrqJYE5Hzm",
        "outputId": "afb4963a-1654-4c29-e3dd-3e9841c0f2a5"
      },
      "execution_count": null,
      "outputs": [
        {
          "output_type": "stream",
          "name": "stdout",
          "text": [
            "Index(['country', 'Has a Bank account', 'location', 'Cell Phone Access', 'age',\n",
            "       'gender', 'The relathip with head', 'education', 'Type of Job'],\n",
            "      dtype='object')\n"
          ]
        }
      ]
    },
    {
      "cell_type": "markdown",
      "source": [
        "4) **Handling Missing Data**"
      ],
      "metadata": {
        "id": "6ycd3NJb4sqZ"
      }
    },
    {
      "cell_type": "code",
      "source": [
        "#We start by checking i there are any missing data and blank spaces \n",
        "df.isnull().sum()"
      ],
      "metadata": {
        "colab": {
          "base_uri": "https://localhost:8080/"
        },
        "id": "xoV921m7RS3g",
        "outputId": "7ea342e3-b7e1-44b4-e365-72527610b527"
      },
      "execution_count": null,
      "outputs": [
        {
          "output_type": "execute_result",
          "data": {
            "text/plain": [
              "country                   14\n",
              "Has a Bank account        36\n",
              "location                  15\n",
              "Cell Phone Access         11\n",
              "age                       34\n",
              "gender                    34\n",
              "The relathip with head     4\n",
              "education                 29\n",
              "Type of Job               30\n",
              "dtype: int64"
            ]
          },
          "metadata": {},
          "execution_count": 41
        }
      ]
    },
    {
      "cell_type": "code",
      "source": [
        "df = df.dropna(axis=0, inplace=False)"
      ],
      "metadata": {
        "id": "heOVZXXUZvCz"
      },
      "execution_count": null,
      "outputs": []
    },
    {
      "cell_type": "code",
      "source": [
        "df.isnull().sum()"
      ],
      "metadata": {
        "colab": {
          "base_uri": "https://localhost:8080/"
        },
        "id": "efo7hhcraGm9",
        "outputId": "fb1fab75-0c55-4563-e817-f9cdee9407cd"
      },
      "execution_count": null,
      "outputs": [
        {
          "output_type": "execute_result",
          "data": {
            "text/plain": [
              "country                   0\n",
              "Has a Bank account        0\n",
              "location                  0\n",
              "Cell Phone Access         0\n",
              "age                       0\n",
              "gender                    0\n",
              "The relathip with head    0\n",
              "education                 0\n",
              "Type of Job               0\n",
              "dtype: int64"
            ]
          },
          "metadata": {},
          "execution_count": 43
        }
      ]
    },
    {
      "cell_type": "code",
      "source": [
        "df.shape"
      ],
      "metadata": {
        "colab": {
          "base_uri": "https://localhost:8080/"
        },
        "id": "wRObjbzAawru",
        "outputId": "db3ada18-f925-424b-b858-f8cb26712480"
      },
      "execution_count": null,
      "outputs": [
        {
          "output_type": "execute_result",
          "data": {
            "text/plain": [
              "(23384, 9)"
            ]
          },
          "metadata": {},
          "execution_count": 44
        }
      ]
    },
    {
      "cell_type": "markdown",
      "source": [
        "5)**Filtering out data Outliers and Anomalies**\n",
        "\n"
      ],
      "metadata": {
        "id": "NAdb3OPrbQju"
      }
    },
    {
      "cell_type": "markdown",
      "source": [
        "checking outliers in columns age "
      ],
      "metadata": {
        "id": "GqSgBkG_eYdt"
      }
    },
    {
      "cell_type": "code",
      "source": [
        "df[['age']].plot(kind='box')\n",
        "plt.show()"
      ],
      "metadata": {
        "colab": {
          "base_uri": "https://localhost:8080/",
          "height": 265
        },
        "id": "qd0bvACScNZx",
        "outputId": "f2173f17-4805-42ad-f11e-b729dcb2d07e"
      },
      "execution_count": null,
      "outputs": [
        {
          "output_type": "display_data",
          "data": {
            "text/plain": [
              "<Figure size 432x288 with 1 Axes>"
            ],
            "image/png": "[encoded data removed]"
          },
          "metadata": {
            "needs_background": "light"
          }
        }
      ]
    },
    {
      "cell_type": "markdown",
      "source": [
        "checking anomalies in columns age \n",
        "\n"
      ],
      "metadata": {
        "id": "zREAM8a0enNe"
      }
    },
    {
      "cell_type": "code",
      "source": [
        "df['age'].unique()"
      ],
      "metadata": {
        "colab": {
          "base_uri": "https://localhost:8080/"
        },
        "id": "Qpp8vSvSe-Mp",
        "outputId": "70abd1d4-b32d-43fa-de2f-833fd4307d61"
      },
      "execution_count": null,
      "outputs": [
        {
          "output_type": "execute_result",
          "data": {
            "text/plain": [
              "array([ 24.,  70.,  26.,  34.,  32.,  42.,  54.,  76.,  40.,  69.,  64.,\n",
              "        31.,  38.,  47.,  27.,  48.,  25.,  21.,  18.,  22.,  58.,  55.,\n",
              "        62.,  29.,  35.,  45.,  67.,  19.,  80.,  66.,  50.,  33.,  28.,\n",
              "        51.,  16.,  17.,  30.,  37.,  59.,  65.,  46.,  56.,  52.,  23.,\n",
              "        43.,  49.,  44.,  72.,  53.,  63.,  39.,  81.,  78.,  36.,  20.,\n",
              "        60.,  95.,  71.,  57.,  85.,  68.,  41.,  61.,  75.,  86.,  73.,\n",
              "        93.,  74.,  88.,  90.,  77.,  84.,  82.,  89.,  79.,  83.,  94.,\n",
              "        87.,  92.,  91.,  98.,  97.,  96.,  99., 100.])"
            ]
          },
          "metadata": {},
          "execution_count": 46
        }
      ]
    },
    {
      "cell_type": "markdown",
      "source": [
        "6) **Validating My Data**"
      ],
      "metadata": {
        "id": "XT22aC0bgWEU"
      }
    },
    {
      "cell_type": "markdown",
      "source": [
        "I have enough , clean and accurate  data to work with.\n",
        "The data is uniformly formatted in a design or language that my analysis tools can work with"
      ],
      "metadata": {
        "id": "-_mpZCcjhlr7"
      }
    },
    {
      "cell_type": "markdown",
      "source": [
        "**EXPLORATORY DATA ANAYLSIS**"
      ],
      "metadata": {
        "id": "WqlblLviiKUk"
      }
    },
    {
      "cell_type": "markdown",
      "source": [
        "UNIVERIATE ANALYSIS"
      ],
      "metadata": {
        "id": "NicohUdSiSKv"
      }
    },
    {
      "cell_type": "markdown",
      "source": [
        "a) Numerical Variable using age Variable"
      ],
      "metadata": {
        "id": "Tph0Ah3ABr7z"
      }
    },
    {
      "cell_type": "code",
      "source": [
        "df['age'].describe()"
      ],
      "metadata": {
        "colab": {
          "base_uri": "https://localhost:8080/"
        },
        "id": "fAqjj34ICt3Y",
        "outputId": "d36419c9-3fba-4916-fb07-d1869ecb28f3"
      },
      "execution_count": null,
      "outputs": [
        {
          "output_type": "execute_result",
          "data": {
            "text/plain": [
              "count    23384.000000\n",
              "mean        38.804225\n",
              "std         16.524913\n",
              "min         16.000000\n",
              "25%         26.000000\n",
              "50%         35.000000\n",
              "75%         49.000000\n",
              "max        100.000000\n",
              "Name: age, dtype: float64"
            ]
          },
          "metadata": {},
          "execution_count": 47
        }
      ]
    },
    {
      "cell_type": "markdown",
      "source": [
        "Determing the quantile"
      ],
      "metadata": {
        "id": "eyyd_RLXEw6Y"
      }
    },
    {
      "cell_type": "code",
      "source": [
        "quantile_age =df[\"age\"].quantile([0.25,0.5,0.75])\n",
        "print(quantile_age)"
      ],
      "metadata": {
        "colab": {
          "base_uri": "https://localhost:8080/"
        },
        "id": "jlELLZsEE4F9",
        "outputId": "cd65fda5-3e20-481b-9e69-62f1fe487be5"
      },
      "execution_count": null,
      "outputs": [
        {
          "output_type": "stream",
          "name": "stdout",
          "text": [
            "0.25    26.0\n",
            "0.50    35.0\n",
            "0.75    49.0\n",
            "Name: age, dtype: float64\n"
          ]
        }
      ]
    },
    {
      "cell_type": "markdown",
      "source": [
        "Determining the age range\n"
      ],
      "metadata": {
        "id": "X-pddTYHHXVE"
      }
    },
    {
      "cell_type": "code",
      "source": [
        "#age_range = max_age-min_age \n",
        "100-16"
      ],
      "metadata": {
        "colab": {
          "base_uri": "https://localhost:8080/"
        },
        "id": "fQUptTlVHeBh",
        "outputId": "2f87004d-d5a3-48a5-a6d0-3e74448ba3b1"
      },
      "execution_count": null,
      "outputs": [
        {
          "output_type": "execute_result",
          "data": {
            "text/plain": [
              "84"
            ]
          },
          "metadata": {},
          "execution_count": 49
        }
      ]
    },
    {
      "cell_type": "markdown",
      "source": [
        "Determing the skewness and Kurtosis of the data"
      ],
      "metadata": {
        "id": "-ewuVEV_MfAk"
      }
    },
    {
      "cell_type": "code",
      "source": [
        "df['age'].plot(kind='density')\n",
        "print('This distribution has skew', df['age'].skew())\n",
        "print('This distribution has kurtosis', df['age'].kurt())"
      ],
      "metadata": {
        "colab": {
          "base_uri": "https://localhost:8080/",
          "height": 303
        },
        "id": "xKyFlQGsMpvS",
        "outputId": "d727ce71-ff27-40ba-9d34-79a3c9e72ef1"
      },
      "execution_count": null,
      "outputs": [
        {
          "output_type": "stream",
          "name": "stdout",
          "text": [
            "This distribution has skew 0.8421672089915798\n",
            "This distribution has kurtosis 0.10235952222757305\n"
          ]
        },
        {
          "output_type": "display_data",
          "data": {
            "text/plain": [
              "<Figure size 432x288 with 1 Axes>"
            ],
            "image/png": "[encoded data removed]"
          },
          "metadata": {
            "needs_background": "light"
          }
        }
      ]
    },
    {
      "cell_type": "markdown",
      "source": [
        "The kurtosis is 0.1 meaning it has a thinner tail and the skweness is 0.84 meaning the data is moderately skewed."
      ],
      "metadata": {
        "id": "_vd_7SmCQuCV"
      }
    },
    {
      "cell_type": "markdown",
      "source": [
        "Histogram of Age"
      ],
      "metadata": {
        "id": "yH2NmFgvTQ-4"
      }
    },
    {
      "cell_type": "code",
      "source": [
        "df['age'].value_counts().head().plot.bar()\n",
        "plt.xlabel(\"age\")\n",
        "plt.ylabel(\"number of respondents\")\n",
        "plt.title(\"Age group which participated in the Survey\")\n",
        "plt.show()\n"
      ],
      "metadata": {
        "colab": {
          "base_uri": "https://localhost:8080/",
          "height": 308
        },
        "id": "_0VTPeRGTl9U",
        "outputId": "d70200d8-ef97-4121-bc68-abdba18668c6"
      },
      "execution_count": null,
      "outputs": [
        {
          "output_type": "display_data",
          "data": {
            "text/plain": [
              "<Figure size 432x288 with 1 Axes>"
            ],
            "image/png": "[encoded data removed]"
          },
          "metadata": {
            "needs_background": "light"
          }
        }
      ]
    },
    {
      "cell_type": "markdown",
      "source": [
        "b) Categorical Variable using Country "
      ],
      "metadata": {
        "id": "bBfjSINoXeh9"
      }
    },
    {
      "cell_type": "code",
      "source": [
        "#pie chart for countries\n",
        "df.country.value_counts().plot(kind='pie',autopct='%1.1f%%', shadow = True, startangle = 90 )\n",
        "plt.axis('equal')\n",
        "plt.title('Pie chart of percentage respondents per country')\n",
        "plt.show()"
      ],
      "metadata": {
        "colab": {
          "base_uri": "https://localhost:8080/",
          "height": 268
        },
        "id": "w0t3b_0XYH1z",
        "outputId": "59296b82-93cf-4264-bc1f-02b4feb3ee44"
      },
      "execution_count": null,
      "outputs": [
        {
          "output_type": "display_data",
          "data": {
            "text/plain": [
              "<Figure size 432x288 with 1 Axes>"
            ],
            "image/png": "[encoded data removed]"
          },
          "metadata": {}
        }
      ]
    },
    {
      "cell_type": "markdown",
      "source": [
        "We notice that Rwanda had more respondents in this research compared to other countires and Uganda had the least number of respondents."
      ],
      "metadata": {
        "id": "UhpwSbJRY0fx"
      }
    },
    {
      "cell_type": "markdown",
      "source": [
        "Lets Use gender Variable"
      ],
      "metadata": {
        "id": "i133Z-AtZQMG"
      }
    },
    {
      "cell_type": "code",
      "source": [
        "df['gender'].count()\n",
        "plt.pie(df['gender'].value_counts() , labels = df.gender.unique(), autopct = '%1.1f%%', shadow = True, startangle = 140)\n",
        "plt.axis('equal')\n",
        "plt.title('Pie Chart Showing Proportion of Gender')\n",
        "plt.show()"
      ],
      "metadata": {
        "colab": {
          "base_uri": "https://localhost:8080/",
          "height": 264
        },
        "id": "9RUVK4VbZlvG",
        "outputId": "ebc0a3fb-2c64-435a-a2ee-5b9977abfe44"
      },
      "execution_count": null,
      "outputs": [
        {
          "output_type": "display_data",
          "data": {
            "text/plain": [
              "<Figure size 432x288 with 1 Axes>"
            ],
            "image/png": "[encoded data removed]"
          },
          "metadata": {}
        }
      ]
    },
    {
      "cell_type": "markdown",
      "source": [
        "The observation is more females 59% participated in the research compared 41% male."
      ],
      "metadata": {
        "id": "JpfBeg7Qayms"
      }
    },
    {
      "cell_type": "markdown",
      "source": [
        "Lets check on the location VAriable using a pie chart "
      ],
      "metadata": {
        "id": "8ttxkHJ2dP21"
      }
    },
    {
      "cell_type": "code",
      "source": [
        "df['location'].count()\n",
        "plt.pie(df['location'].value_counts() , labels = df.location.unique(), autopct = '%1.1f%%', shadow = True, startangle = 140)\n",
        "plt.axis('equal')\n",
        "plt.title('Pie Chart Showing Proportion of location')\n",
        "plt.show()"
      ],
      "metadata": {
        "colab": {
          "base_uri": "https://localhost:8080/",
          "height": 264
        },
        "outputId": "cd5dde5e-ada4-4ded-8328-131e8594ce19",
        "id": "Pe5R50TPdbp9"
      },
      "execution_count": null,
      "outputs": [
        {
          "output_type": "display_data",
          "data": {
            "text/plain": [
              "<Figure size 432x288 with 1 Axes>"
            ],
            "image/png": "[encoded data removed]"
          },
          "metadata": {}
        }
      ]
    },
    {
      "cell_type": "markdown",
      "source": [
        "More people participated in the survey 61.1% and 38.9% were from urban areas"
      ],
      "metadata": {
        "id": "b6DXE5YEd7cM"
      }
    },
    {
      "cell_type": "markdown",
      "source": [
        "Lets check on education Variable"
      ],
      "metadata": {
        "id": "-VJEEtPkeq4Z"
      }
    },
    {
      "cell_type": "code",
      "source": [
        "df['education'].value_counts()"
      ],
      "metadata": {
        "colab": {
          "base_uri": "https://localhost:8080/"
        },
        "id": "cgNsHa4-flhy",
        "outputId": "baa14526-f227-432b-d55f-ab596c866216"
      },
      "execution_count": null,
      "outputs": [
        {
          "output_type": "execute_result",
          "data": {
            "text/plain": [
              "Primary education                  12719\n",
              "No formal education                 4475\n",
              "Secondary education                 4210\n",
              "Tertiary education                  1144\n",
              "Vocational/Specialised training      801\n",
              "6                                     27\n",
              "Other/Dont know/RTA                    8\n",
              "Name: education, dtype: int64"
            ]
          },
          "metadata": {},
          "execution_count": 55
        }
      ]
    },
    {
      "cell_type": "code",
      "source": [
        "# plotting a chart for the level of education\n",
        "ax = sns.countplot(df['education'], order = df['education'].value_counts().index)\n",
        "# formatting and labelling the chart\n",
        "plt.title(\"level of education\")\n",
        "plt.xlabel(\"Education Level\")\n",
        "plt.ylabel(\"Number of respondents\")\n",
        "plt.xticks(rotation=60)"
      ],
      "metadata": {
        "colab": {
          "base_uri": "https://localhost:8080/",
          "height": 496
        },
        "id": "0x47Fx8KopOQ",
        "outputId": "71aa5995-4892-45df-ea41-810ef9abddf4"
      },
      "execution_count": null,
      "outputs": [
        {
          "output_type": "stream",
          "name": "stderr",
          "text": [
            "/usr/local/lib/python3.7/dist-packages/seaborn/_decorators.py:43: FutureWarning: Pass the following variable as a keyword arg: x. From version 0.12, the only valid positional argument will be `data`, and passing other arguments without an explicit keyword will result in an error or misinterpretation.\n",
            "  FutureWarning\n"
          ]
        },
        {
          "output_type": "execute_result",
          "data": {
            "text/plain": [
              "(array([0, 1, 2, 3, 4, 5, 6]), <a list of 7 Text major ticklabel objects>)"
            ]
          },
          "metadata": {},
          "execution_count": 56
        },
        {
          "output_type": "display_data",
          "data": {
            "text/plain": [
              "<Figure size 432x288 with 1 Axes>"
            ],
            "image/png": "[encoded data removed]"
          },
          "metadata": {
            "needs_background": "light"
          }
        }
      ]
    },
    {
      "cell_type": "markdown",
      "source": [
        "Lets check on Has a bank on pie chart. "
      ],
      "metadata": {
        "id": "y-vMVRZlt-tG"
      }
    },
    {
      "cell_type": "code",
      "source": [
        "df[\"Has a Bank account\"].value_counts()\n",
        "df[\"Has a Bank account\"].value_counts()\n",
        "df[\"Has a Bank account\"].value_counts().head().plot.pie()\n",
        "plt.axis('equal')\n",
        "plt.title('Pie Chart of bank_acc')\n",
        "plt.show()"
      ],
      "metadata": {
        "colab": {
          "base_uri": "https://localhost:8080/",
          "height": 264
        },
        "id": "hupfzhWGuMbU",
        "outputId": "2eda3b82-a83f-45da-8691-f2dd8e71adb6"
      },
      "execution_count": null,
      "outputs": [
        {
          "output_type": "display_data",
          "data": {
            "text/plain": [
              "<Figure size 432x288 with 1 Axes>"
            ],
            "image/png": "[encoded data removed]"
          },
          "metadata": {}
        }
      ]
    },
    {
      "cell_type": "markdown",
      "source": [
        "Huge size of the respondents do not have bank accounts."
      ],
      "metadata": {
        "id": "1aUQHFUCvPoM"
      }
    },
    {
      "cell_type": "markdown",
      "source": [
        "BIVARIATE ANALYSIS"
      ],
      "metadata": {
        "id": "dMsizh2ztFqA"
      }
    },
    {
      "cell_type": "markdown",
      "source": [
        "Bivariate analysis, check relationships and differences between two variables.\n",
        "We will start with Categorical-Numeric variables and then Categorical-categorical\n"
      ],
      "metadata": {
        "id": "2XXBRUZMxQAc"
      }
    },
    {
      "cell_type": "markdown",
      "source": [
        "**Categorical-Numerical Variables**"
      ],
      "metadata": {
        "id": "LUEUOg4QzfJo"
      }
    },
    {
      "cell_type": "markdown",
      "source": [
        "Lets check which numerical data we have "
      ],
      "metadata": {
        "id": "MPu02Gwyy9G-"
      }
    },
    {
      "cell_type": "code",
      "source": [
        "numerical = df.select_dtypes(include=['int64','float64','Int64'])[:]\n",
        "numerical.dtypes"
      ],
      "metadata": {
        "colab": {
          "base_uri": "https://localhost:8080/"
        },
        "id": "B4i2I_-DyGOc",
        "outputId": "3f61cac2-3cba-4592-d7d7-469031f0ae3a"
      },
      "execution_count": null,
      "outputs": [
        {
          "output_type": "execute_result",
          "data": {
            "text/plain": [
              "age    float64\n",
              "dtype: object"
            ]
          },
          "metadata": {},
          "execution_count": 58
        }
      ]
    },
    {
      "cell_type": "markdown",
      "source": [
        "Age Group Vs Has a Bank Account."
      ],
      "metadata": {
        "id": "sdikhcC3-lv6"
      }
    },
    {
      "cell_type": "code",
      "source": [
        "bins= [10,20,30,50,80,100]\n",
        "labels = ['Teen','Youth','Adult','Senior Citizen','Very old']\n",
        "df['AgeGroup'] = pd.cut(df['age'], bins=bins, labels=labels, right=False)\n",
        "df\n",
        "ax6 = df.groupby('Has a Bank account')['AgeGroup'].value_counts(normalize=True).unstack()\n",
        "ax6.plot(kind='bar', stacked='True',title=str)\n",
        "int_level = df['Has a Bank account'].value_counts()"
      ],
      "metadata": {
        "colab": {
          "base_uri": "https://localhost:8080/",
          "height": 301
        },
        "id": "Hx8-YJkS8uyj",
        "outputId": "94cb0361-f56c-4c89-b9ef-3bf31b8a1e48"
      },
      "execution_count": null,
      "outputs": [
        {
          "output_type": "display_data",
          "data": {
            "text/plain": [
              "<Figure size 432x288 with 1 Axes>"
            ],
            "image/png": "[encoded data removed]"
          },
          "metadata": {
            "needs_background": "light"
          }
        }
      ]
    },
    {
      "cell_type": "markdown",
      "source": [
        "Majority of adults have bank accounts followed by youth ,senior citizens,teens and very old in that order."
      ],
      "metadata": {
        "id": "8mNqYTwLC_7p"
      }
    },
    {
      "cell_type": "markdown",
      "source": [
        "**Categorical-Categorical Variable**\n",
        "\n"
      ],
      "metadata": {
        "id": "oCKMdA8K6Tmn"
      }
    },
    {
      "cell_type": "markdown",
      "source": [
        "Phone Access Vs Location "
      ],
      "metadata": {
        "id": "ifR8kPnV7djD"
      }
    },
    {
      "cell_type": "code",
      "source": [
        "loc = df.groupby('location')['Cell Phone Access'].value_counts(normalize=True).unstack()\n",
        "\n",
        "colors= ['blue', 'red']\n",
        "\n",
        "loc.plot(kind='barh', figsize=(8, 6), color=colors, stacked=True)\n",
        "plt.title('Phone Access Vs Location', fontsize=15, y=1.015)\n",
        "plt.xticks(rotation = 360)\n",
        "plt.ylabel('Location', fontsize=17, labelpad=17)"
      ],
      "metadata": {
        "colab": {
          "base_uri": "https://localhost:8080/",
          "height": 414
        },
        "id": "QqGYuSjoBDlC",
        "outputId": "961e7f88-60e4-471d-8da2-efcd0b35332d"
      },
      "execution_count": null,
      "outputs": [
        {
          "output_type": "execute_result",
          "data": {
            "text/plain": [
              "Text(0, 0.5, 'Location')"
            ]
          },
          "metadata": {},
          "execution_count": 62
        },
        {
          "output_type": "display_data",
          "data": {
            "text/plain": [
              "<Figure size 576x432 with 1 Axes>"
            ],
            "image/png": "[encoded data removed]"
          },
          "metadata": {
            "needs_background": "light"
          }
        }
      ]
    },
    {
      "cell_type": "markdown",
      "source": [
        "People in the rural areas have more access to phones but this is due to the respondents of this survey most of them came from the rural area."
      ],
      "metadata": {
        "id": "7QYxW5mSClG4"
      }
    },
    {
      "cell_type": "markdown",
      "source": [
        "Gender Vs Has a Bank Account"
      ],
      "metadata": {
        "id": "zljxWpW3GOiw"
      }
    },
    {
      "cell_type": "code",
      "source": [
        "ax1 = df.groupby('Has a Bank account')['gender'].value_counts(normalize=True).unstack()\n",
        "ax1.plot(kind='bar', stacked='True',title=str(ax1))\n",
        "int_level = df['Has a Bank account'].value_counts()"
      ],
      "metadata": {
        "colab": {
          "base_uri": "https://localhost:8080/",
          "height": 346
        },
        "id": "agrjezT1GTxJ",
        "outputId": "bdba822b-d5e9-4fdd-c9ed-72e9401afaae"
      },
      "execution_count": null,
      "outputs": [
        {
          "output_type": "display_data",
          "data": {
            "text/plain": [
              "<Figure size 432x288 with 1 Axes>"
            ],
            "image/png": "[encoded data removed]"
          },
          "metadata": {
            "needs_background": "light"
          }
        }
      ]
    },
    {
      "cell_type": "markdown",
      "source": [
        "More males have bank accounts compared to females."
      ],
      "metadata": {
        "id": "XQtqDhXKG3vt"
      }
    },
    {
      "cell_type": "markdown",
      "source": [
        "Type of Job Vs Has a bank account"
      ],
      "metadata": {
        "id": "TslC9awaHToS"
      }
    },
    {
      "cell_type": "code",
      "source": [
        "\n",
        "Has_a_Bank_account = df.groupby(['Has a Bank account','Type of Job'])['Has a Bank account'].count().unstack('Type of Job')\n",
        "ax = Has_a_Bank_account.plot.barh(stacked=True, edgecolor='none',figsize=(10,4))\n",
        "plt.title('Bar Graph Showing Type of Job of Respondents against Has Bank account')\n",
        "plt.xlabel('Number of Respondents')\n",
        "plt.ylabel('Has a Bank account')\n",
        "horiz_offset = 1.05\n",
        "vert_offset = 1."
      ],
      "metadata": {
        "colab": {
          "base_uri": "https://localhost:8080/",
          "height": 295
        },
        "id": "OwAW0EZqJPrQ",
        "outputId": "220858c6-ac3c-49e4-e3eb-a3879c2d39b4"
      },
      "execution_count": null,
      "outputs": [
        {
          "output_type": "display_data",
          "data": {
            "text/plain": [
              "<Figure size 720x288 with 1 Axes>"
            ],
            "image/png": "[encoded data removed]"
          },
          "metadata": {
            "needs_background": "light"
          }
        }
      ]
    },
    {
      "cell_type": "markdown",
      "source": [
        "Majority of the respondents do not have bank accounts and this is irrespective of their type of Job all the same among those who have bank accounts majority are self employed."
      ],
      "metadata": {
        "id": "KJ0qbv5RKuBH"
      }
    },
    {
      "cell_type": "markdown",
      "source": [
        "**MULTIVARIATE ANALYSIS**\n",
        "\n",
        "We will perform the Principle component Analysis first by doing a Correlation Matrix to check relation of dependant and independent variables by first doing label encoding.\n",
        "\n"
      ],
      "metadata": {
        "id": "K7wNRaTwDnou"
      }
    },
    {
      "cell_type": "markdown",
      "source": [
        "Correlationn Matrix"
      ],
      "metadata": {
        "id": "_HE6PCbWh3Ox"
      }
    },
    {
      "cell_type": "code",
      "source": [
        "\n",
        "\n",
        "df[\"Has a Bank account\"] = df[\"Has a Bank account\"].astype('category').cat.codes\n",
        "df[\"country\"] = df[\"country\"].astype('category').cat.codes\n",
        "df[\"location\"] = df[\"location\"].astype('category').cat.codes\n",
        "df[\"Cell Phone Access\"] = df[\"Cell Phone Access\"].astype('category').cat.codes\n",
        "df[\"gender\"] = df[\"gender\"].astype('category').cat.codes\n",
        "df[\"The relathip with head\"] = df[\"The relathip with head\"].astype('category').cat.codes\n",
        "df[\"education\"] = df[\"education\"].astype('category').cat.codes\n",
        "df[\"Type of Job\"] = df[\"Type of Job\"].astype('category').cat.codes\n",
        "df['AgeGroup']=df['AgeGroup'].astype('category').cat.codes\n",
        "df.head()\n",
        "\n"
      ],
      "metadata": {
        "colab": {
          "base_uri": "https://localhost:8080/",
          "height": 206
        },
        "id": "0saiaeh0F4rY",
        "outputId": "14fbfbca-393f-4f34-bacc-d3c98d026620"
      },
      "execution_count": null,
      "outputs": [
        {
          "output_type": "execute_result",
          "data": {
            "text/plain": [
              "   country  Has a Bank account  location  Cell Phone Access   age  gender  \\\n",
              "0        0                   1         0                  1  24.0       0   \n",
              "1        0                   0         0                  0  70.0       0   \n",
              "2        0                   1         1                  1  26.0       1   \n",
              "3        0                   0         0                  1  34.0       0   \n",
              "4        0                   0         1                  0  26.0       1   \n",
              "\n",
              "   The relathip with head  education  Type of Job  AgeGroup  \n",
              "0                       5          4            9         1  \n",
              "1                       1          1            4         3  \n",
              "2                       3          6            9         1  \n",
              "3                       1          3            3         2  \n",
              "4                       0          3            5         1  "
            ],
            "text/html": [
              "\n",
              "  <div id=\"df-50b8960a-3aeb-4002-a53d-a7cbee6e60c8\">\n",
              "    <div class=\"colab-df-container\">\n",
              "      <div>\n",
              "<style scoped>\n",
              "    .dataframe tbody tr th:only-of-type {\n",
              "        vertical-align: middle;\n",
              "    }\n",
              "\n",
              "    .dataframe tbody tr th {\n",
              "        vertical-align: top;\n",
              "    }\n",
              "\n",
              "    .dataframe thead th {\n",
              "        text-align: right;\n",
              "    }\n",
              "</style>\n",
              "<table border=\"1\" class=\"dataframe\">\n",
              "  <thead>\n",
              "    <tr style=\"text-align: right;\">\n",
              "      <th></th>\n",
              "      <th>country</th>\n",
              "      <th>Has a Bank account</th>\n",
              "      <th>location</th>\n",
              "      <th>Cell Phone Access</th>\n",
              "      <th>age</th>\n",
              "      <th>gender</th>\n",
              "      <th>The relathip with head</th>\n",
              "      <th>education</th>\n",
              "      <th>Type of Job</th>\n",
              "      <th>AgeGroup</th>\n",
              "    </tr>\n",
              "  </thead>\n",
              "  <tbody>\n",
              "    <tr>\n",
              "      <th>0</th>\n",
              "      <td>0</td>\n",
              "      <td>1</td>\n",
              "      <td>0</td>\n",
              "      <td>1</td>\n",
              "      <td>24.0</td>\n",
              "      <td>0</td>\n",
              "      <td>5</td>\n",
              "      <td>4</td>\n",
              "      <td>9</td>\n",
              "      <td>1</td>\n",
              "    </tr>\n",
              "    <tr>\n",
              "      <th>1</th>\n",
              "      <td>0</td>\n",
              "      <td>0</td>\n",
              "      <td>0</td>\n",
              "      <td>0</td>\n",
              "      <td>70.0</td>\n",
              "      <td>0</td>\n",
              "      <td>1</td>\n",
              "      <td>1</td>\n",
              "      <td>4</td>\n",
              "      <td>3</td>\n",
              "    </tr>\n",
              "    <tr>\n",
              "      <th>2</th>\n",
              "      <td>0</td>\n",
              "      <td>1</td>\n",
              "      <td>1</td>\n",
              "      <td>1</td>\n",
              "      <td>26.0</td>\n",
              "      <td>1</td>\n",
              "      <td>3</td>\n",
              "      <td>6</td>\n",
              "      <td>9</td>\n",
              "      <td>1</td>\n",
              "    </tr>\n",
              "    <tr>\n",
              "      <th>3</th>\n",
              "      <td>0</td>\n",
              "      <td>0</td>\n",
              "      <td>0</td>\n",
              "      <td>1</td>\n",
              "      <td>34.0</td>\n",
              "      <td>0</td>\n",
              "      <td>1</td>\n",
              "      <td>3</td>\n",
              "      <td>3</td>\n",
              "      <td>2</td>\n",
              "    </tr>\n",
              "    <tr>\n",
              "      <th>4</th>\n",
              "      <td>0</td>\n",
              "      <td>0</td>\n",
              "      <td>1</td>\n",
              "      <td>0</td>\n",
              "      <td>26.0</td>\n",
              "      <td>1</td>\n",
              "      <td>0</td>\n",
              "      <td>3</td>\n",
              "      <td>5</td>\n",
              "      <td>1</td>\n",
              "    </tr>\n",
              "  </tbody>\n",
              "</table>\n",
              "</div>\n",
              "      <button class=\"colab-df-convert\" onclick=\"convertToInteractive('df-50b8960a-3aeb-4002-a53d-a7cbee6e60c8')\"\n",
              "              title=\"Convert this dataframe to an interactive table.\"\n",
              "              style=\"display:none;\">\n",
              "        \n",
              "  <svg xmlns=\"http://www.w3.org/2000/svg\" height=\"24px\"viewBox=\"0 0 24 24\"\n",
              "       width=\"24px\">\n",
              "    <path d=\"M0 0h24v24H0V0z\" fill=\"none\"/>\n",
              "    <path d=\"M18.56 5.44l.94 2.06.94-2.06 2.06-.94-2.06-.94-.94-2.06-.94 2.06-2.06.94zm-11 1L8.5 8.5l.94-2.06 2.06-.94-2.06-.94L8.5 2.5l-.94 2.06-2.06.94zm10 10l.94 2.06.94-2.06 2.06-.94-2.06-.94-.94-2.06-.94 2.06-2.06.94z\"/><path d=\"M17.41 7.96l-1.37-1.37c-.4-.4-.92-.59-1.43-.59-.52 0-1.04.2-1.43.59L10.3 9.45l-7.72 7.72c-.78.78-.78 2.05 0 2.83L4 21.41c.39.39.9.59 1.41.59.51 0 1.02-.2 1.41-.59l7.78-7.78 2.81-2.81c.8-.78.8-2.07 0-2.86zM5.41 20L4 18.59l7.72-7.72 1.47 1.35L5.41 20z\"/>\n",
              "  </svg>\n",
              "      </button>\n",
              "      \n",
              "  <style>\n",
              "    .colab-df-container {\n",
              "      display:flex;\n",
              "      flex-wrap:wrap;\n",
              "      gap: 12px;\n",
              "    }\n",
              "\n",
              "    .colab-df-convert {\n",
              "      background-color: #E8F0FE;\n",
              "      border: none;\n",
              "      border-radius: 50%;\n",
              "      cursor: pointer;\n",
              "      display: none;\n",
              "      fill: #1967D2;\n",
              "      height: 32px;\n",
              "      padding: 0 0 0 0;\n",
              "      width: 32px;\n",
              "    }\n",
              "\n",
              "    .colab-df-convert:hover {\n",
              "      background-color: #E2EBFA;\n",
              "      box-shadow: 0px 1px 2px rgba(60, 64, 67, 0.3), 0px 1px 3px 1px rgba(60, 64, 67, 0.15);\n",
              "      fill: #174EA6;\n",
              "    }\n",
              "\n",
              "    [theme=dark] .colab-df-convert {\n",
              "      background-color: #3B4455;\n",
              "      fill: #D2E3FC;\n",
              "    }\n",
              "\n",
              "    [theme=dark] .colab-df-convert:hover {\n",
              "      background-color: #434B5C;\n",
              "      box-shadow: 0px 1px 3px 1px rgba(0, 0, 0, 0.15);\n",
              "      filter: drop-shadow(0px 1px 2px rgba(0, 0, 0, 0.3));\n",
              "      fill: #FFFFFF;\n",
              "    }\n",
              "  </style>\n",
              "\n",
              "      <script>\n",
              "        const buttonEl =\n",
              "          document.querySelector('#df-50b8960a-3aeb-4002-a53d-a7cbee6e60c8 button.colab-df-convert');\n",
              "        buttonEl.style.display =\n",
              "          google.colab.kernel.accessAllowed ? 'block' : 'none';\n",
              "\n",
              "        async function convertToInteractive(key) {\n",
              "          const element = document.querySelector('#df-50b8960a-3aeb-4002-a53d-a7cbee6e60c8');\n",
              "          const dataTable =\n",
              "            await google.colab.kernel.invokeFunction('convertToInteractive',\n",
              "                                                     [key], {});\n",
              "          if (!dataTable) return;\n",
              "\n",
              "          const docLinkHtml = 'Like what you see? Visit the ' +\n",
              "            '<a target=\"_blank\" href=https://colab.research.google.com/notebooks/data_table.ipynb>data table notebook</a>'\n",
              "            + ' to learn more about interactive tables.';\n",
              "          element.innerHTML = '';\n",
              "          dataTable['output_type'] = 'display_data';\n",
              "          await google.colab.output.renderOutput(dataTable, element);\n",
              "          const docLink = document.createElement('div');\n",
              "          docLink.innerHTML = docLinkHtml;\n",
              "          element.appendChild(docLink);\n",
              "        }\n",
              "      </script>\n",
              "    </div>\n",
              "  </div>\n",
              "  "
            ]
          },
          "metadata": {},
          "execution_count": 65
        }
      ]
    },
    {
      "cell_type": "code",
      "source": [
        "df.corr()"
      ],
      "metadata": {
        "colab": {
          "base_uri": "https://localhost:8080/",
          "height": 363
        },
        "id": "z7adGs0bfLl6",
        "outputId": "ba065cb8-bcef-46fb-d414-3fa931bf1230"
      },
      "execution_count": null,
      "outputs": [
        {
          "output_type": "execute_result",
          "data": {
            "text/plain": [
              "                         country  Has a Bank account  location  \\\n",
              "country                 1.000000           -0.160961  0.150312   \n",
              "Has a Bank account     -0.160961            1.000000  0.088485   \n",
              "location                0.150312            0.088485  1.000000   \n",
              "Cell Phone Access      -0.149134            0.209576 -0.083535   \n",
              "age                    -0.058870            0.019362 -0.047677   \n",
              "gender                 -0.027076            0.116441  0.012957   \n",
              "The relathip with head  0.130267           -0.070226  0.016768   \n",
              "education              -0.050997            0.322710  0.127588   \n",
              "Type of Job             0.379699           -0.063019  0.367288   \n",
              "AgeGroup               -0.055344            0.051486 -0.048082   \n",
              "\n",
              "                        Cell Phone Access       age    gender  \\\n",
              "country                         -0.149134 -0.058870 -0.027076   \n",
              "Has a Bank account               0.209576  0.019362  0.116441   \n",
              "location                        -0.083535 -0.047677  0.012957   \n",
              "Cell Phone Access                1.000000 -0.103830  0.102210   \n",
              "age                             -0.103830  1.000000  0.013222   \n",
              "gender                           0.102210  0.013222  1.000000   \n",
              "The relathip with head          -0.048771 -0.150565 -0.472102   \n",
              "education                        0.252157 -0.353094  0.119190   \n",
              "Type of Job                     -0.144952 -0.103237 -0.030119   \n",
              "AgeGroup                        -0.037260  0.905202  0.007788   \n",
              "\n",
              "                        The relathip with head  education  Type of Job  \\\n",
              "country                               0.130267  -0.050997     0.379699   \n",
              "Has a Bank account                   -0.070226   0.322710    -0.063019   \n",
              "location                              0.016768   0.127588     0.367288   \n",
              "Cell Phone Access                    -0.048771   0.252157    -0.144952   \n",
              "age                                  -0.150565  -0.353094    -0.103237   \n",
              "gender                               -0.472102   0.119190    -0.030119   \n",
              "The relathip with head                1.000000  -0.017386     0.040581   \n",
              "education                            -0.017386   1.000000     0.044495   \n",
              "Type of Job                           0.040581   0.044495     1.000000   \n",
              "AgeGroup                             -0.093889  -0.323915    -0.113605   \n",
              "\n",
              "                        AgeGroup  \n",
              "country                -0.055344  \n",
              "Has a Bank account      0.051486  \n",
              "location               -0.048082  \n",
              "Cell Phone Access      -0.037260  \n",
              "age                     0.905202  \n",
              "gender                  0.007788  \n",
              "The relathip with head -0.093889  \n",
              "education              -0.323915  \n",
              "Type of Job            -0.113605  \n",
              "AgeGroup                1.000000  "
            ],
            "text/html": [
              "\n",
              "  <div id=\"df-4884b29b-c48d-43bb-acad-4747bb29fd1a\">\n",
              "    <div class=\"colab-df-container\">\n",
              "      <div>\n",
              "<style scoped>\n",
              "    .dataframe tbody tr th:only-of-type {\n",
              "        vertical-align: middle;\n",
              "    }\n",
              "\n",
              "    .dataframe tbody tr th {\n",
              "        vertical-align: top;\n",
              "    }\n",
              "\n",
              "    .dataframe thead th {\n",
              "        text-align: right;\n",
              "    }\n",
              "</style>\n",
              "<table border=\"1\" class=\"dataframe\">\n",
              "  <thead>\n",
              "    <tr style=\"text-align: right;\">\n",
              "      <th></th>\n",
              "      <th>country</th>\n",
              "      <th>Has a Bank account</th>\n",
              "      <th>location</th>\n",
              "      <th>Cell Phone Access</th>\n",
              "      <th>age</th>\n",
              "      <th>gender</th>\n",
              "      <th>The relathip with head</th>\n",
              "      <th>education</th>\n",
              "      <th>Type of Job</th>\n",
              "      <th>AgeGroup</th>\n",
              "    </tr>\n",
              "  </thead>\n",
              "  <tbody>\n",
              "    <tr>\n",
              "      <th>country</th>\n",
              "      <td>1.000000</td>\n",
              "      <td>-0.160961</td>\n",
              "      <td>0.150312</td>\n",
              "      <td>-0.149134</td>\n",
              "      <td>-0.058870</td>\n",
              "      <td>-0.027076</td>\n",
              "      <td>0.130267</td>\n",
              "      <td>-0.050997</td>\n",
              "      <td>0.379699</td>\n",
              "      <td>-0.055344</td>\n",
              "    </tr>\n",
              "    <tr>\n",
              "      <th>Has a Bank account</th>\n",
              "      <td>-0.160961</td>\n",
              "      <td>1.000000</td>\n",
              "      <td>0.088485</td>\n",
              "      <td>0.209576</td>\n",
              "      <td>0.019362</td>\n",
              "      <td>0.116441</td>\n",
              "      <td>-0.070226</td>\n",
              "      <td>0.322710</td>\n",
              "      <td>-0.063019</td>\n",
              "      <td>0.051486</td>\n",
              "    </tr>\n",
              "    <tr>\n",
              "      <th>location</th>\n",
              "      <td>0.150312</td>\n",
              "      <td>0.088485</td>\n",
              "      <td>1.000000</td>\n",
              "      <td>-0.083535</td>\n",
              "      <td>-0.047677</td>\n",
              "      <td>0.012957</td>\n",
              "      <td>0.016768</td>\n",
              "      <td>0.127588</td>\n",
              "      <td>0.367288</td>\n",
              "      <td>-0.048082</td>\n",
              "    </tr>\n",
              "    <tr>\n",
              "      <th>Cell Phone Access</th>\n",
              "      <td>-0.149134</td>\n",
              "      <td>0.209576</td>\n",
              "      <td>-0.083535</td>\n",
              "      <td>1.000000</td>\n",
              "      <td>-0.103830</td>\n",
              "      <td>0.102210</td>\n",
              "      <td>-0.048771</td>\n",
              "      <td>0.252157</td>\n",
              "      <td>-0.144952</td>\n",
              "      <td>-0.037260</td>\n",
              "    </tr>\n",
              "    <tr>\n",
              "      <th>age</th>\n",
              "      <td>-0.058870</td>\n",
              "      <td>0.019362</td>\n",
              "      <td>-0.047677</td>\n",
              "      <td>-0.103830</td>\n",
              "      <td>1.000000</td>\n",
              "      <td>0.013222</td>\n",
              "      <td>-0.150565</td>\n",
              "      <td>-0.353094</td>\n",
              "      <td>-0.103237</td>\n",
              "      <td>0.905202</td>\n",
              "    </tr>\n",
              "    <tr>\n",
              "      <th>gender</th>\n",
              "      <td>-0.027076</td>\n",
              "      <td>0.116441</td>\n",
              "      <td>0.012957</td>\n",
              "      <td>0.102210</td>\n",
              "      <td>0.013222</td>\n",
              "      <td>1.000000</td>\n",
              "      <td>-0.472102</td>\n",
              "      <td>0.119190</td>\n",
              "      <td>-0.030119</td>\n",
              "      <td>0.007788</td>\n",
              "    </tr>\n",
              "    <tr>\n",
              "      <th>The relathip with head</th>\n",
              "      <td>0.130267</td>\n",
              "      <td>-0.070226</td>\n",
              "      <td>0.016768</td>\n",
              "      <td>-0.048771</td>\n",
              "      <td>-0.150565</td>\n",
              "      <td>-0.472102</td>\n",
              "      <td>1.000000</td>\n",
              "      <td>-0.017386</td>\n",
              "      <td>0.040581</td>\n",
              "      <td>-0.093889</td>\n",
              "    </tr>\n",
              "    <tr>\n",
              "      <th>education</th>\n",
              "      <td>-0.050997</td>\n",
              "      <td>0.322710</td>\n",
              "      <td>0.127588</td>\n",
              "      <td>0.252157</td>\n",
              "      <td>-0.353094</td>\n",
              "      <td>0.119190</td>\n",
              "      <td>-0.017386</td>\n",
              "      <td>1.000000</td>\n",
              "      <td>0.044495</td>\n",
              "      <td>-0.323915</td>\n",
              "    </tr>\n",
              "    <tr>\n",
              "      <th>Type of Job</th>\n",
              "      <td>0.379699</td>\n",
              "      <td>-0.063019</td>\n",
              "      <td>0.367288</td>\n",
              "      <td>-0.144952</td>\n",
              "      <td>-0.103237</td>\n",
              "      <td>-0.030119</td>\n",
              "      <td>0.040581</td>\n",
              "      <td>0.044495</td>\n",
              "      <td>1.000000</td>\n",
              "      <td>-0.113605</td>\n",
              "    </tr>\n",
              "    <tr>\n",
              "      <th>AgeGroup</th>\n",
              "      <td>-0.055344</td>\n",
              "      <td>0.051486</td>\n",
              "      <td>-0.048082</td>\n",
              "      <td>-0.037260</td>\n",
              "      <td>0.905202</td>\n",
              "      <td>0.007788</td>\n",
              "      <td>-0.093889</td>\n",
              "      <td>-0.323915</td>\n",
              "      <td>-0.113605</td>\n",
              "      <td>1.000000</td>\n",
              "    </tr>\n",
              "  </tbody>\n",
              "</table>\n",
              "</div>\n",
              "      <button class=\"colab-df-convert\" onclick=\"convertToInteractive('df-4884b29b-c48d-43bb-acad-4747bb29fd1a')\"\n",
              "              title=\"Convert this dataframe to an interactive table.\"\n",
              "              style=\"display:none;\">\n",
              "        \n",
              "  <svg xmlns=\"http://www.w3.org/2000/svg\" height=\"24px\"viewBox=\"0 0 24 24\"\n",
              "       width=\"24px\">\n",
              "    <path d=\"M0 0h24v24H0V0z\" fill=\"none\"/>\n",
              "    <path d=\"M18.56 5.44l.94 2.06.94-2.06 2.06-.94-2.06-.94-.94-2.06-.94 2.06-2.06.94zm-11 1L8.5 8.5l.94-2.06 2.06-.94-2.06-.94L8.5 2.5l-.94 2.06-2.06.94zm10 10l.94 2.06.94-2.06 2.06-.94-2.06-.94-.94-2.06-.94 2.06-2.06.94z\"/><path d=\"M17.41 7.96l-1.37-1.37c-.4-.4-.92-.59-1.43-.59-.52 0-1.04.2-1.43.59L10.3 9.45l-7.72 7.72c-.78.78-.78 2.05 0 2.83L4 21.41c.39.39.9.59 1.41.59.51 0 1.02-.2 1.41-.59l7.78-7.78 2.81-2.81c.8-.78.8-2.07 0-2.86zM5.41 20L4 18.59l7.72-7.72 1.47 1.35L5.41 20z\"/>\n",
              "  </svg>\n",
              "      </button>\n",
              "      \n",
              "  <style>\n",
              "    .colab-df-container {\n",
              "      display:flex;\n",
              "      flex-wrap:wrap;\n",
              "      gap: 12px;\n",
              "    }\n",
              "\n",
              "    .colab-df-convert {\n",
              "      background-color: #E8F0FE;\n",
              "      border: none;\n",
              "      border-radius: 50%;\n",
              "      cursor: pointer;\n",
              "      display: none;\n",
              "      fill: #1967D2;\n",
              "      height: 32px;\n",
              "      padding: 0 0 0 0;\n",
              "      width: 32px;\n",
              "    }\n",
              "\n",
              "    .colab-df-convert:hover {\n",
              "      background-color: #E2EBFA;\n",
              "      box-shadow: 0px 1px 2px rgba(60, 64, 67, 0.3), 0px 1px 3px 1px rgba(60, 64, 67, 0.15);\n",
              "      fill: #174EA6;\n",
              "    }\n",
              "\n",
              "    [theme=dark] .colab-df-convert {\n",
              "      background-color: #3B4455;\n",
              "      fill: #D2E3FC;\n",
              "    }\n",
              "\n",
              "    [theme=dark] .colab-df-convert:hover {\n",
              "      background-color: #434B5C;\n",
              "      box-shadow: 0px 1px 3px 1px rgba(0, 0, 0, 0.15);\n",
              "      filter: drop-shadow(0px 1px 2px rgba(0, 0, 0, 0.3));\n",
              "      fill: #FFFFFF;\n",
              "    }\n",
              "  </style>\n",
              "\n",
              "      <script>\n",
              "        const buttonEl =\n",
              "          document.querySelector('#df-4884b29b-c48d-43bb-acad-4747bb29fd1a button.colab-df-convert');\n",
              "        buttonEl.style.display =\n",
              "          google.colab.kernel.accessAllowed ? 'block' : 'none';\n",
              "\n",
              "        async function convertToInteractive(key) {\n",
              "          const element = document.querySelector('#df-4884b29b-c48d-43bb-acad-4747bb29fd1a');\n",
              "          const dataTable =\n",
              "            await google.colab.kernel.invokeFunction('convertToInteractive',\n",
              "                                                     [key], {});\n",
              "          if (!dataTable) return;\n",
              "\n",
              "          const docLinkHtml = 'Like what you see? Visit the ' +\n",
              "            '<a target=\"_blank\" href=https://colab.research.google.com/notebooks/data_table.ipynb>data table notebook</a>'\n",
              "            + ' to learn more about interactive tables.';\n",
              "          element.innerHTML = '';\n",
              "          dataTable['output_type'] = 'display_data';\n",
              "          await google.colab.output.renderOutput(dataTable, element);\n",
              "          const docLink = document.createElement('div');\n",
              "          docLink.innerHTML = docLinkHtml;\n",
              "          element.appendChild(docLink);\n",
              "        }\n",
              "      </script>\n",
              "    </div>\n",
              "  </div>\n",
              "  "
            ]
          },
          "metadata": {},
          "execution_count": 66
        }
      ]
    },
    {
      "cell_type": "markdown",
      "source": [
        "There is a weak correlation between having a bank account and gender \n",
        "There is a minimal correlation between having a bank account and age \n",
        "There is a weak correlation of having a bank account and the relationship with the head."
      ],
      "metadata": {
        "id": "iqH0jwgElgKw"
      }
    },
    {
      "cell_type": "markdown",
      "source": [
        "Principle Component Analysis"
      ],
      "metadata": {
        "id": "Jr4LlAGnppFE"
      }
    },
    {
      "cell_type": "code",
      "source": [
        "import scipy.stats as stats"
      ],
      "metadata": {
        "id": "oHVsY5Ia-1VU"
      },
      "execution_count": null,
      "outputs": []
    },
    {
      "cell_type": "code",
      "source": [
        "df.head(3)"
      ],
      "metadata": {
        "colab": {
          "base_uri": "https://localhost:8080/",
          "height": 143
        },
        "id": "C-mWGyxQ-7-2",
        "outputId": "f21d052f-21d3-489a-9675-30c664bea858"
      },
      "execution_count": null,
      "outputs": [
        {
          "output_type": "execute_result",
          "data": {
            "text/plain": [
              "   country  Has a Bank account  location  Cell Phone Access   age  gender  \\\n",
              "0        0                   1         0                  1  24.0       0   \n",
              "1        0                   0         0                  0  70.0       0   \n",
              "2        0                   1         1                  1  26.0       1   \n",
              "\n",
              "   The relathip with head  education  Type of Job  AgeGroup  \n",
              "0                       5          4            9         1  \n",
              "1                       1          1            4         3  \n",
              "2                       3          6            9         1  "
            ],
            "text/html": [
              "\n",
              "  <div id=\"df-b917f291-bece-40d1-afec-665e27e34765\">\n",
              "    <div class=\"colab-df-container\">\n",
              "      <div>\n",
              "<style scoped>\n",
              "    .dataframe tbody tr th:only-of-type {\n",
              "        vertical-align: middle;\n",
              "    }\n",
              "\n",
              "    .dataframe tbody tr th {\n",
              "        vertical-align: top;\n",
              "    }\n",
              "\n",
              "    .dataframe thead th {\n",
              "        text-align: right;\n",
              "    }\n",
              "</style>\n",
              "<table border=\"1\" class=\"dataframe\">\n",
              "  <thead>\n",
              "    <tr style=\"text-align: right;\">\n",
              "      <th></th>\n",
              "      <th>country</th>\n",
              "      <th>Has a Bank account</th>\n",
              "      <th>location</th>\n",
              "      <th>Cell Phone Access</th>\n",
              "      <th>age</th>\n",
              "      <th>gender</th>\n",
              "      <th>The relathip with head</th>\n",
              "      <th>education</th>\n",
              "      <th>Type of Job</th>\n",
              "      <th>AgeGroup</th>\n",
              "    </tr>\n",
              "  </thead>\n",
              "  <tbody>\n",
              "    <tr>\n",
              "      <th>0</th>\n",
              "      <td>0</td>\n",
              "      <td>1</td>\n",
              "      <td>0</td>\n",
              "      <td>1</td>\n",
              "      <td>24.0</td>\n",
              "      <td>0</td>\n",
              "      <td>5</td>\n",
              "      <td>4</td>\n",
              "      <td>9</td>\n",
              "      <td>1</td>\n",
              "    </tr>\n",
              "    <tr>\n",
              "      <th>1</th>\n",
              "      <td>0</td>\n",
              "      <td>0</td>\n",
              "      <td>0</td>\n",
              "      <td>0</td>\n",
              "      <td>70.0</td>\n",
              "      <td>0</td>\n",
              "      <td>1</td>\n",
              "      <td>1</td>\n",
              "      <td>4</td>\n",
              "      <td>3</td>\n",
              "    </tr>\n",
              "    <tr>\n",
              "      <th>2</th>\n",
              "      <td>0</td>\n",
              "      <td>1</td>\n",
              "      <td>1</td>\n",
              "      <td>1</td>\n",
              "      <td>26.0</td>\n",
              "      <td>1</td>\n",
              "      <td>3</td>\n",
              "      <td>6</td>\n",
              "      <td>9</td>\n",
              "      <td>1</td>\n",
              "    </tr>\n",
              "  </tbody>\n",
              "</table>\n",
              "</div>\n",
              "      <button class=\"colab-df-convert\" onclick=\"convertToInteractive('df-b917f291-bece-40d1-afec-665e27e34765')\"\n",
              "              title=\"Convert this dataframe to an interactive table.\"\n",
              "              style=\"display:none;\">\n",
              "        \n",
              "  <svg xmlns=\"http://www.w3.org/2000/svg\" height=\"24px\"viewBox=\"0 0 24 24\"\n",
              "       width=\"24px\">\n",
              "    <path d=\"M0 0h24v24H0V0z\" fill=\"none\"/>\n",
              "    <path d=\"M18.56 5.44l.94 2.06.94-2.06 2.06-.94-2.06-.94-.94-2.06-.94 2.06-2.06.94zm-11 1L8.5 8.5l.94-2.06 2.06-.94-2.06-.94L8.5 2.5l-.94 2.06-2.06.94zm10 10l.94 2.06.94-2.06 2.06-.94-2.06-.94-.94-2.06-.94 2.06-2.06.94z\"/><path d=\"M17.41 7.96l-1.37-1.37c-.4-.4-.92-.59-1.43-.59-.52 0-1.04.2-1.43.59L10.3 9.45l-7.72 7.72c-.78.78-.78 2.05 0 2.83L4 21.41c.39.39.9.59 1.41.59.51 0 1.02-.2 1.41-.59l7.78-7.78 2.81-2.81c.8-.78.8-2.07 0-2.86zM5.41 20L4 18.59l7.72-7.72 1.47 1.35L5.41 20z\"/>\n",
              "  </svg>\n",
              "      </button>\n",
              "      \n",
              "  <style>\n",
              "    .colab-df-container {\n",
              "      display:flex;\n",
              "      flex-wrap:wrap;\n",
              "      gap: 12px;\n",
              "    }\n",
              "\n",
              "    .colab-df-convert {\n",
              "      background-color: #E8F0FE;\n",
              "      border: none;\n",
              "      border-radius: 50%;\n",
              "      cursor: pointer;\n",
              "      display: none;\n",
              "      fill: #1967D2;\n",
              "      height: 32px;\n",
              "      padding: 0 0 0 0;\n",
              "      width: 32px;\n",
              "    }\n",
              "\n",
              "    .colab-df-convert:hover {\n",
              "      background-color: #E2EBFA;\n",
              "      box-shadow: 0px 1px 2px rgba(60, 64, 67, 0.3), 0px 1px 3px 1px rgba(60, 64, 67, 0.15);\n",
              "      fill: #174EA6;\n",
              "    }\n",
              "\n",
              "    [theme=dark] .colab-df-convert {\n",
              "      background-color: #3B4455;\n",
              "      fill: #D2E3FC;\n",
              "    }\n",
              "\n",
              "    [theme=dark] .colab-df-convert:hover {\n",
              "      background-color: #434B5C;\n",
              "      box-shadow: 0px 1px 3px 1px rgba(0, 0, 0, 0.15);\n",
              "      filter: drop-shadow(0px 1px 2px rgba(0, 0, 0, 0.3));\n",
              "      fill: #FFFFFF;\n",
              "    }\n",
              "  </style>\n",
              "\n",
              "      <script>\n",
              "        const buttonEl =\n",
              "          document.querySelector('#df-b917f291-bece-40d1-afec-665e27e34765 button.colab-df-convert');\n",
              "        buttonEl.style.display =\n",
              "          google.colab.kernel.accessAllowed ? 'block' : 'none';\n",
              "\n",
              "        async function convertToInteractive(key) {\n",
              "          const element = document.querySelector('#df-b917f291-bece-40d1-afec-665e27e34765');\n",
              "          const dataTable =\n",
              "            await google.colab.kernel.invokeFunction('convertToInteractive',\n",
              "                                                     [key], {});\n",
              "          if (!dataTable) return;\n",
              "\n",
              "          const docLinkHtml = 'Like what you see? Visit the ' +\n",
              "            '<a target=\"_blank\" href=https://colab.research.google.com/notebooks/data_table.ipynb>data table notebook</a>'\n",
              "            + ' to learn more about interactive tables.';\n",
              "          element.innerHTML = '';\n",
              "          dataTable['output_type'] = 'display_data';\n",
              "          await google.colab.output.renderOutput(dataTable, element);\n",
              "          const docLink = document.createElement('div');\n",
              "          docLink.innerHTML = docLinkHtml;\n",
              "          element.appendChild(docLink);\n",
              "        }\n",
              "      </script>\n",
              "    </div>\n",
              "  </div>\n",
              "  "
            ]
          },
          "metadata": {},
          "execution_count": 68
        }
      ]
    },
    {
      "cell_type": "markdown",
      "source": [
        "Reduction Techniques"
      ],
      "metadata": {
        "id": "0S871tiKuMzv"
      }
    },
    {
      "cell_type": "code",
      "source": [
        "x = df.drop(['Has a Bank account','age'],axis=1)\n",
        "y = df['Has a Bank account']"
      ],
      "metadata": {
        "id": "mAvfs6PKtahI"
      },
      "execution_count": null,
      "outputs": []
    },
    {
      "cell_type": "markdown",
      "source": [
        "Dividing data into training and test sets"
      ],
      "metadata": {
        "id": "jWMp4WZwuSCH"
      }
    },
    {
      "cell_type": "code",
      "source": [
        "from sklearn.model_selection import train_test_split\n",
        "x_train, x_test, y_train, y_test = train_test_split(x, y, test_size=0.2, random_state=0)\n"
      ],
      "metadata": {
        "id": "DCxwr7xZufJ4"
      },
      "execution_count": null,
      "outputs": []
    },
    {
      "cell_type": "markdown",
      "source": [
        "Performing feature scaling"
      ],
      "metadata": {
        "id": "Hup0jtDfu35r"
      }
    },
    {
      "cell_type": "code",
      "source": [
        "from sklearn.preprocessing import StandardScaler\n",
        "sc = StandardScaler()\n",
        "x_train =sc.fit_transform(x_train)\n",
        "x_test = sc.transform(x_test)"
      ],
      "metadata": {
        "id": "HasLoXjOBpRl"
      },
      "execution_count": null,
      "outputs": []
    },
    {
      "cell_type": "markdown",
      "source": [
        "Performing PCA"
      ],
      "metadata": {
        "id": "-Pn5EvSv5xYg"
      }
    },
    {
      "cell_type": "code",
      "source": [
        "from sklearn.decomposition import PCA\n",
        "pca = PCA()\n",
        "x_train = pca.fit_transform(x_train)\n",
        "x_test = pca.transform(x_test)\n"
      ],
      "metadata": {
        "id": "P7a_MAcBB9Yi"
      },
      "execution_count": null,
      "outputs": []
    },
    {
      "cell_type": "code",
      "source": [
        "explained_variance = pca.explained_variance_ratio_\n",
        "explained_variance\n"
      ],
      "metadata": {
        "colab": {
          "base_uri": "https://localhost:8080/"
        },
        "id": "tNsH3zh9CU6G",
        "outputId": "64e1408f-7cf0-4303-b199-02c0c9161f7d"
      },
      "execution_count": null,
      "outputs": [
        {
          "output_type": "execute_result",
          "data": {
            "text/plain": [
              "array([0.22086315, 0.19138472, 0.17029266, 0.11008797, 0.10344069,\n",
              "       0.07479337, 0.06916227, 0.05997517])"
            ]
          },
          "metadata": {},
          "execution_count": 73
        }
      ]
    },
    {
      "cell_type": "markdown",
      "source": [
        "Training and Making Predictions\n",
        "using the random forest classifier to evaluate the performance of PCA\n"
      ],
      "metadata": {
        "id": "IPdi9OrZKSnY"
      }
    },
    {
      "cell_type": "code",
      "source": [
        "from sklearn.ensemble import RandomForestClassifier\n",
        "\n",
        "classifier = RandomForestClassifier(max_depth=2, random_state=0)\n",
        "classifier.fit(x_train, y_train)\n",
        "y_pred = classifier.predict(x_test)"
      ],
      "metadata": {
        "id": "KMqZCqB3KhAs"
      },
      "execution_count": null,
      "outputs": []
    },
    {
      "cell_type": "markdown",
      "source": [
        "Evaluating the Performance\n",
        "With the help of a confusion matrix and find the accuracy of the prediction.\n"
      ],
      "metadata": {
        "id": "Ww-YJnE3K8IV"
      }
    },
    {
      "cell_type": "code",
      "source": [
        "from sklearn.metrics import confusion_matrix\n",
        "from sklearn.metrics import accuracy_score\n",
        "\n",
        "cm = confusion_matrix(y_test, y_pred)\n",
        "print(cm)\n",
        "print('Accuracy' + str(accuracy_score(y_test, y_pred)))\n"
      ],
      "metadata": {
        "colab": {
          "base_uri": "https://localhost:8080/"
        },
        "id": "-GW1zlYNLJhi",
        "outputId": "32f05861-ad2a-45f9-ca0c-eb89fe1a1f1f"
      },
      "execution_count": null,
      "outputs": [
        {
          "output_type": "stream",
          "name": "stdout",
          "text": [
            "[[3994    0]\n",
            " [ 683    0]]\n",
            "Accuracy0.8539662176608938\n"
          ]
        }
      ]
    },
    {
      "cell_type": "markdown",
      "source": [
        "We can see that with PCA, we have achieved an accuracy of 85.3%, \n"
      ],
      "metadata": {
        "id": "rq7PlR8KMDsf"
      }
    },
    {
      "cell_type": "markdown",
      "source": [
        "DISCRIMANT ANALYSIS USING LINEAR DISCRIMINANT "
      ],
      "metadata": {
        "id": "BFLb6JveMW57"
      }
    },
    {
      "cell_type": "code",
      "source": [
        "from sklearn.discriminant_analysis import LinearDiscriminantAnalysis as LDA\n",
        "lda = LDA(n_components=1)\n",
        "x_train = lda.fit_transform(x_train, y_train)\n",
        "x_test = lda.transform(x_test)\n",
        "print(x_test)\n",
        "print(x_train)\n"
      ],
      "metadata": {
        "colab": {
          "base_uri": "https://localhost:8080/"
        },
        "id": "XUHSSk49Nd2G",
        "outputId": "2d61657e-090a-4c73-fc66-83b66c241960"
      },
      "execution_count": null,
      "outputs": [
        {
          "output_type": "stream",
          "name": "stdout",
          "text": [
            "[[ 0.62062938]\n",
            " [-1.26062994]\n",
            " [-0.87744628]\n",
            " ...\n",
            " [ 0.39709573]\n",
            " [ 0.33556913]\n",
            " [ 0.58516511]]\n",
            "[[-0.3139787 ]\n",
            " [-0.02384524]\n",
            " [-0.32948169]\n",
            " ...\n",
            " [ 1.9738233 ]\n",
            " [ 0.05768645]\n",
            " [ 2.33139056]]\n"
          ]
        }
      ]
    },
    {
      "cell_type": "markdown",
      "source": [
        "Training and Making Predictions\n",
        "using the random forest classifier to evaluate the performance of a LDA"
      ],
      "metadata": {
        "id": "yzezGPQoP338"
      }
    },
    {
      "cell_type": "code",
      "source": [
        "from sklearn.ensemble import RandomForestClassifier\n",
        "\n",
        "classifier = RandomForestClassifier(max_depth=2, random_state=0)\n",
        "classifier.fit(x_train, y_train)\n",
        "y_pred = classifier.predict(x_test)"
      ],
      "metadata": {
        "id": "PSXRveuUP47X"
      },
      "execution_count": null,
      "outputs": []
    },
    {
      "cell_type": "markdown",
      "source": [
        "Evaluating the Performance with the help of a confusion matrix and find the accuracy of the prediction."
      ],
      "metadata": {
        "id": "yh5WagBPQZ1Y"
      }
    },
    {
      "cell_type": "code",
      "source": [
        "from sklearn.metrics import confusion_matrix\n",
        "from sklearn.metrics import accuracy_score\n",
        "\n",
        "cm = confusion_matrix(y_test, y_pred)\n",
        "print(cm)\n",
        "print('Accuracy' + str(accuracy_score(y_test, y_pred)))"
      ],
      "metadata": {
        "colab": {
          "base_uri": "https://localhost:8080/"
        },
        "id": "Mti4PmBgQBjc",
        "outputId": "008ee981-11d7-467a-b962-a9e3fed13e16"
      },
      "execution_count": null,
      "outputs": [
        {
          "output_type": "stream",
          "name": "stdout",
          "text": [
            "[[7801  204]\n",
            " [ 929  420]]\n",
            "Accuracy0.8788753474449433\n"
          ]
        }
      ]
    },
    {
      "cell_type": "markdown",
      "source": [
        "We can see that with one linear discriminant Analysis, we achieved an accuracy of 88%,"
      ],
      "metadata": {
        "id": "FWQUv6mtQm0e"
      }
    },
    {
      "cell_type": "markdown",
      "source": [
        "**Observation from the Multivariate Analysis**\n",
        "Techniques used are Principle Component Analysis and Linear Discriminant Analysis.\n",
        "The model achieved accuracy of 85% with PCA and 88% with LDA"
      ],
      "metadata": {
        "id": "a_g84lmFSGwj"
      }
    },
    {
      "cell_type": "markdown",
      "source": [
        "**Recommendations on Improvements **"
      ],
      "metadata": {
        "id": "y8OCuJ2yW-4d"
      }
    },
    {
      "cell_type": "markdown",
      "source": [
        "a)Upon obseravtion there was more data collected from other countries compared to others, I suggest the data collection could be more informative if we could target an equal number of respondents for each country.\n",
        "b)Most data was colleccted from the rural areas which is obvious to me that the results will have a bias since banks are not many in the rural areas and most of them there are not on formal employment.\n",
        "c)I did not see how relationship with the head can influence someone having a bank account so that could be replaced with a question like how do you finance your day to day needs?"
      ],
      "metadata": {
        "id": "LyCem44TXfG8"
      }
    }
  ]
}